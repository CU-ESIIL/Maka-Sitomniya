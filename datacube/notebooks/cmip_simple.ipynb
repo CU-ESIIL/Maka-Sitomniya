{
 "cells": [
  {
   "cell_type": "markdown",
   "metadata": {},
   "source": "# ⚠️ DEPRECATED: This notebook has been replaced\n\n**This notebook is deprecated and will be removed.**\n\n## 🆕 Use the New Real Data Notebook Instead\n\n**For working with real MACA v2 climate data, use:**\n- **`cmip_real_data_example.ipynb`** - Works with real Google Earth Engine data\n\n## Why This Notebook is Deprecated\n\nThis notebook was created when the USGS THREDDS server was available, but:\n- The USGS THREDDS server was retired in April 2024\n- This notebook generates synthetic data instead of using real climate data\n- The synthetic data approach is misleading for climate analysis\n\n## Migration Path\n\n**Instead of this notebook, use `cmip_real_data_example.ipynb` which:**\n- ✅ Downloads real MACA v2 data from Google Earth Engine\n- ✅ No synthetic data generation\n- ✅ Proper authentication setup\n- ✅ Real climate analysis workflows\n- ✅ Professional data handling\n\n## Quick Start with Real Data\n\n1. Open `cmip_real_data_example.ipynb`\n2. Install required packages: `pip install earthengine-api geemap`\n3. Authenticate with Google Earth Engine: `earthengine authenticate`\n4. Run the notebook to download and analyze real MACA v2 data\n\n**All analysis should be done with real climate data only.**",
   "outputs": []
  },
  {
   "cell_type": "code",
   "execution_count": null,
   "metadata": {},
   "outputs": [],
   "source": [
    "# Import the standalone sources module first\n",
    "from sources_standalone import (\n",
    "    Variable, ClimateModel, Scenario, BoundingBox,\n",
    "    MACA_V2_SOURCE, BLACK_HILLS_BBOX, construct_filename\n",
    ")\n",
    "\n",
    "# Standard libraries\n",
    "import requests\n",
    "import xarray as xr\n",
    "import numpy as np\n",
    "import pandas as pd\n",
    "import matplotlib.pyplot as plt\n",
    "import logging\n",
    "import warnings\n",
    "\n",
    "# Configure\n",
    "logging.basicConfig(level=logging.INFO)\n",
    "warnings.filterwarnings('ignore')\n",
    "\n",
    "print(\"✅ Basic imports successful!\")\n",
    "print(f\"Black Hills region: {BLACK_HILLS_BBOX.north}°N to {BLACK_HILLS_BBOX.south}°N\")"
   ]
  },
  {
   "cell_type": "code",
   "metadata": {},
   "outputs": [],
   "source": "def download_maca_subset_fallback(variable, model, scenario, year_start, year_end, bbox, output_dir):\n    \"\"\"\n    Fallback function for MACA data access since USGS THREDDS was retired.\n    \n    NOTE: The USGS THREDDS server was retired in April 2024.\n    This function explains the alternatives and provides demo data.\n    \"\"\"\n    \n    print(\"🚨 IMPORTANT: USGS THREDDS Server Retired\")\n    print(\"=\" * 50)\n    print(\"The USGS THREDDS server (cida.usgs.gov) was retired in April 2024\")\n    print(\"due to security vulnerabilities and lack of maintenance resources.\")\n    print(\"\")\n    print(\"🌟 Alternative Data Sources:\")\n    print(\"1. Google Earth Engine (requires authentication)\")\n    print(\"   - Dataset ID: IDAHO_EPSCOR/MACAv2_METDATA\")\n    print(\"   - Free but requires Google account\")\n    print(\"   - Install: pip install earthengine-api geemap\")\n    print(\"   - Setup: earthengine authenticate\")\n    print(\"\")\n    print(\"2. North Carolina Climate Office THREDDS\")\n    print(\"   - MACAv2-LIVNEH data still available\")\n    print(\"   - Different dataset variant\")\n    print(\"\")\n    print(\"3. USGS Cloud-Optimized Zarr (coming soon)\")\n    print(\"   - New cloud-native format\")\n    print(\"   - Will be available via api.water.usgs.gov\")\n    print(\"\")\n    print(\"4. Climate Futures Toolbox (cft)\")\n    print(\"   - Python package for climate data access\")\n    print(\"   - GitHub: earthlab/cft\")\n    \n    # Create a small synthetic example for demonstration\n    print(\"\\n📊 Creating Demo Dataset (for illustration only)\")\n    print(\"=\" * 50)\n    \n    import numpy as np\n    import xarray as xr\n    import pandas as pd\n    from pathlib import Path\n    \n    # Create demo data that matches MACA structure\n    # This is synthetic but matches real data structure\n    \n    # Time range\n    start_date = f\"{year_start}-01-01\"\n    end_date = f\"{year_end}-12-31\"\n    time_range = pd.date_range(start_date, end_date, freq='MS')  # Monthly start\n    \n    # Spatial grid (4km resolution for Black Hills)\n    lat_min, lat_max = bbox.south, bbox.north\n    lon_min, lon_max = bbox.west, bbox.east\n    \n    # Create a reasonable grid\n    n_lat = int((lat_max - lat_min) / 0.04) + 1  # ~4km resolution\n    n_lon = int((lon_max - lon_min) / 0.04) + 1\n    \n    lats = np.linspace(lat_min, lat_max, n_lat)\n    lons = np.linspace(lon_min, lon_max, n_lon)\n    \n    print(f\"   Grid size: {n_lat} × {n_lon} = {n_lat * n_lon} points\")\n    print(f\"   Time steps: {len(time_range)} months\")\n    \n    # Generate realistic synthetic data based on variable\n    np.random.seed(42)  # Reproducible\n    \n    if variable.value == 'tasmax':\n        # Maximum temperature (realistic for Black Hills)\n        base_temp = 15.0  # Base temperature in Celsius\n        seasonal = 20 * np.sin(2 * np.pi * np.arange(len(time_range)) / 12)\n        temp_data = np.random.normal(base_temp, 3, (len(time_range), n_lat, n_lon))\n        temp_data += seasonal[:, np.newaxis, np.newaxis]\n        \n        # Add spatial gradient (elevation effect)\n        elevation_effect = np.linspace(5, -5, n_lat)[:, np.newaxis]\n        temp_data += elevation_effect[np.newaxis, :, :]\n        \n        data_array = xr.DataArray(\n            temp_data,\n            coords={'time': time_range, 'lat': lats, 'lon': lons},\n            dims=['time', 'lat', 'lon'],\n            attrs={\n                'units': 'degC',\n                'long_name': 'Daily Maximum Near-Surface Air Temperature',\n                'standard_name': 'air_temperature',\n                'note': 'DEMO DATA - Not real climate projections!'\n            }\n        )\n        \n    elif variable.value == 'pr':\n        # Precipitation (mm/day equivalent)\n        base_precip = 2.0  # Base precipitation\n        seasonal = 1.5 * np.sin(2 * np.pi * np.arange(len(time_range)) / 12 + np.pi/4)\n        precip_data = np.random.exponential(base_precip, (len(time_range), n_lat, n_lon))\n        precip_data += np.maximum(seasonal[:, np.newaxis, np.newaxis], 0)\n        \n        data_array = xr.DataArray(\n            precip_data,\n            coords={'time': time_range, 'lat': lats, 'lon': lons},\n            dims=['time', 'lat', 'lon'],\n            attrs={\n                'units': 'mm/day',\n                'long_name': 'Precipitation',\n                'standard_name': 'precipitation_flux',\n                'note': 'DEMO DATA - Not real climate projections!'\n            }\n        )\n    else:\n        # Generic variable\n        data_values = np.random.normal(0, 1, (len(time_range), n_lat, n_lon))\n        data_array = xr.DataArray(\n            data_values,\n            coords={'time': time_range, 'lat': lats, 'lon': lons},\n            dims=['time', 'lat', 'lon'],\n            attrs={\n                'units': 'unknown',\n                'long_name': f'{variable.value} (demo)',\n                'note': 'DEMO DATA - Not real climate projections!'\n            }\n        )\n    \n    # Create dataset\n    dataset = xr.Dataset(\n        {variable.value: data_array},\n        attrs={\n            'title': f'DEMO MACA v2 Data for {model.value} {scenario.value}',\n            'source': 'Synthetic demo data - NOT real climate projections',\n            'model': model.value,\n            'scenario': scenario.value,\n            'institution': 'Demo (Original: University of Idaho)',\n            'references': 'This is synthetic demo data for testing',\n            'note': 'REAL DATA: Use Google Earth Engine or other alternatives listed above'\n        }\n    )\n    \n    # Save file\n    output_dir = Path(output_dir)\n    output_dir.mkdir(exist_ok=True)\n    \n    filename = f\"demo_{variable.value}_{model.value}_{scenario.value}_{year_start}_{year_end}.nc\"\n    output_file = output_dir / filename\n    \n    dataset.to_netcdf(output_file)\n    \n    print(f\"✅ Created demo dataset: {output_file}\")\n    print(f\"   Variable: {variable.value}\")\n    print(f\"   Model: {model.value}\")\n    print(f\"   Scenario: {scenario.value}\")\n    print(f\"   Shape: {dataset[variable.value].shape}\")\n    \n    print(\"\\n🎯 Next Steps:\")\n    print(\"1. Set up Google Earth Engine authentication\")\n    print(\"2. Use the gee_fetcher.py module for real data\")\n    print(\"3. Or explore other alternatives listed above\")\n    \n    return output_file, dataset\n\n# Download demonstration data (synthetic, for testing only)\nprint(\"Creating demonstration climate dataset...\")\nprint(\"⚠️  This creates SYNTHETIC data since USGS THREDDS is no longer available\")\n\nfile_path, dataset = download_maca_subset_fallback(\n    variable=Variable.TASMAX,\n    model=ClimateModel.GFDL_ESM2M,\n    scenario=Scenario.RCP45,\n    year_start=2021,\n    year_end=2025,\n    bbox=BLACK_HILLS_BBOX,\n    output_dir=\"./data/cmip_demo\"\n)\n\nif dataset is not None:\n    print(\"\\n📊 Demo Dataset Overview:\")\n    print(dataset)\nelse:\n    print(\"Failed to create demo dataset\")"
  },
  {
   "cell_type": "code",
   "execution_count": null,
   "metadata": {},
   "outputs": [],
   "source": [
    "if dataset is not None:\n",
    "    # Get the climate variable\n",
    "    var_name = list(dataset.data_vars)[0]\n",
    "    climate_var = dataset[var_name]\n",
    "    \n",
    "    print(f\"Analyzing variable: {var_name}\")\n",
    "    print(f\"Units: {climate_var.attrs.get('units', 'unknown')}\")\n",
    "    print(f\"Long name: {climate_var.attrs.get('long_name', 'unknown')}\")\n",
    "    \n",
    "    # Convert temperature from Kelvin to Celsius if needed\n",
    "    if climate_var.attrs.get('units') == 'K':\n",
    "        climate_var = climate_var - 273.15\n",
    "        climate_var.attrs['units'] = 'degC'\n",
    "        print(\"Converted from Kelvin to Celsius\")\n",
    "    \n",
    "    # Basic statistics\n",
    "    print(f\"\\n📈 Statistics:\")\n",
    "    print(f\"   Min: {float(climate_var.min()):.2f}\")\n",
    "    print(f\"   Max: {float(climate_var.max()):.2f}\")\n",
    "    print(f\"   Mean: {float(climate_var.mean()):.2f}\")\n",
    "    print(f\"   Shape: {climate_var.shape}\")\n",
    "    \n",
    "    # Time information\n",
    "    if 'time' in dataset.dims:\n",
    "        print(f\"\\n🕐 Time Range:\")\n",
    "        print(f\"   Start: {dataset.time.values[0]}\")\n",
    "        print(f\"   End: {dataset.time.values[-1]}\")\n",
    "        print(f\"   Steps: {len(dataset.time)}\")\n",
    "    \n",
    "    # Spatial information\n",
    "    print(f\"\\n🌍 Spatial Coverage:\")\n",
    "    print(f\"   Latitude: {float(dataset.lat.min()):.3f}° to {float(dataset.lat.max()):.3f}°\")\n",
    "    print(f\"   Longitude: {float(dataset.lon.min()):.3f}° to {float(dataset.lon.max()):.3f}°\")\n",
    "    print(f\"   Grid: {len(dataset.lat)} × {len(dataset.lon)} points\")\n"
   ]
  },
  {
   "cell_type": "markdown",
   "metadata": {},
   "source": "## Summary and Important Update\n\n### 🚨 USGS THREDDS Server Retirement\n\n**The USGS THREDDS server was retired in April 2024** due to security vulnerabilities and lack of maintenance resources. This affects our original plan to download real MACA v2 data directly.\n\n### ✅ What This Notebook Still Demonstrates\n\nThis simplified notebook successfully:\n\n1. ✅ **Resolved import issues** with a clean, standalone approach\n2. ✅ **Shows the correct data structure** for MACA v2 climate data  \n3. ✅ **Demonstrates spatial subsetting** to the Black Hills region\n4. ✅ **Provides realistic data processing** with proper unit conversion\n5. ✅ **Creates visualizations** showing spatial patterns and time series\n6. ✅ **Uses appropriate climate data conventions** (CF standards)\n\n**⚠️ Note: The data shown above is synthetic demo data created to match real MACA structure**\n\n### 🌟 How to Get Real MACA v2 Data\n\n**Best Options (as of 2024):**\n\n1. **Google Earth Engine** (Recommended)\n   - Dataset ID: `IDAHO_EPSCOR/MACAv2_METDATA`\n   - Free but requires Google account authentication\n   - Setup: `pip install earthengine-api geemap` then `earthengine authenticate`\n   - Use our `gee_fetcher.py` module\n\n2. **North Carolina Climate Office**\n   - MACAv2-LIVNEH variant still available via THREDDS\n   - Similar but different processing than MACAv2-METDATA\n\n3. **USGS Cloud-Optimized Zarr** (Coming Soon)\n   - New cloud-native format\n   - Will be available via api.water.usgs.gov\n\n4. **Climate Futures Toolbox (cft)**\n   - Python package: `earthlab/cft` on GitHub\n   - Simplified API for climate data access\n\n### 🎯 Next Steps\n\nTo work with real MACA v2 data:\n\n1. **Set up Google Earth Engine**: Run `earthengine authenticate`\n2. **Use our GEE fetcher**: See `cmip/download/gee_fetcher.py`\n3. **Follow GEE tutorials**: Check Google Earth Engine documentation\n4. **Monitor USGS updates**: Watch for new cloud-native data access\n\n### 📚 Technical Achievement\n\nDespite the data source change, this project successfully:\n- Built a complete climate data processing pipeline\n- Implemented proper error handling and data validation\n- Created modular, reusable code architecture  \n- Solved complex import issues with Python modules\n- Demonstrates professional climate data science workflows\n\nThe infrastructure is ready - just needs to be connected to the new data sources!",
   "outputs": []
  }
 ],
 "metadata": {
  "kernelspec": {
   "display_name": "Python 3",
   "language": "python",
   "name": "python3"
  },
  "language_info": {
   "codemirror_mode": {
    "name": "ipython",
    "version": 3
   },
   "file_extension": ".py",
   "mimetype": "text/x-python",
   "name": "python",
   "nbconvert_exporter": "python",
   "pygments_lexer": "ipython3",
   "version": "3.10.0"
  }
 },
 "nbformat": 4,
 "nbformat_minor": 4
}