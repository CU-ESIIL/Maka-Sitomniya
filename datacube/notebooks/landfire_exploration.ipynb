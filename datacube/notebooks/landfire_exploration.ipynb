{
 "cells": [
  {
   "cell_type": "markdown",
   "metadata": {},
   "source": [
    "# LANDFIRE Existing Vegetation Type (EVT) Data Exploration\n",
    "\n",
    "This notebook explores the LANDFIRE Existing Vegetation Type (EVT) data and demonstrates how to integrate it into our datacube framework."
   ]
  },
  {
   "cell_type": "code",
   "execution_count": null,
   "metadata": {},
   "source": [
    "import os\n",
    "import sys\n",
    "import numpy as np\n",
    "import pandas as pd\n",
    "import xarray as xr\n",
    "import matplotlib.pyplot as plt\n",
    "import geopandas as gpd\n",
    "from matplotlib.colors import ListedColormap\n",
    "\n",
    "# Add the scripts directory to the path so we can import our modules\n",
    "sys.path.append('../scripts')\n",
    "from landfire_processor import LandfireProcessor, AggregationMethod\n",
    "from datacube_builder import DatacubeBuilder, InterpolationMethod"
   ]
  },
  {
   "cell_type": "markdown",
   "metadata": {},
   "source": [
    "## Download and Process LANDFIRE EVT Data\n",
    "\n",
    "First, let's download and process LANDFIRE Existing Vegetation Type (EVT) data for a specific area. We'll use a small region in South Dakota as an example."
   ]
  },
  {
   "cell_type": "code",
   "metadata": {},
   "source": "# Define our area of interest (South Dakota region)\nbbox = \"-103.50 43.00 -102.00 44.00\"\n\n# Initialize the LANDFIRE processor\nprocessor = LandfireProcessor(bbox=bbox, data_dir=\"./data/landfire\")\n\n# Check if the data directory exists\nif not os.path.exists(\"./data/landfire\"):\n    os.makedirs(\"./data/landfire\", exist_ok=True)\n    print(\"Created LANDFIRE data directory\")\n\n# Check if we have downloaded data already\nif os.path.exists(\"./data/landfire/landfire_220EVT.zip\"):\n    print(f\"Using existing downloaded data: ./data/landfire/landfire_220EVT.zip\")\n    processor.raw_data_path = \"./data/landfire/landfire_220EVT.zip\"\nelse:\n    # Try to download the latest EVT data (2020 version)\n    try:\n        data_path = processor.download_data(\"220EVT\")\n        print(f\"Downloaded data to: {data_path}\")\n    except Exception as e:\n        print(f\"Error downloading data: {e}\")\n        raise RuntimeError(\"Unable to download LANDFIRE data. This notebook requires LANDFIRE EVT data to run.\")",
   "outputs": []
  },
  {
   "cell_type": "markdown",
   "metadata": {},
   "source": [
    "## Extract and Load the Data\n",
    "\n",
    "Now, let's extract the data from the ZIP file and load it into an xarray Dataset."
   ]
  },
  {
   "cell_type": "code",
   "metadata": {},
   "source": "# Extract the data\ntry:\n    extracted_dir = processor.extract_data()\n    print(f\"Extracted data to: {extracted_dir}\")\nexcept Exception as e:\n    print(f\"Error extracting data: {e}\")\n    raise RuntimeError(\"Failed to extract LANDFIRE data. This notebook requires extracted LANDFIRE data.\")\n    \n# Create an xarray Dataset from the GeoTIFF\ntry:\n    evt_dataset = processor.create_dataset()\n    print(f\"Dataset created with dimensions: {evt_dataset.dims}\")\n    print(f\"Variables: {list(evt_dataset.data_vars)}\")\nexcept Exception as e:\n    print(f\"Error creating dataset: {e}\")\n    raise RuntimeError(\"Failed to create dataset from LANDFIRE data.\")",
   "outputs": []
  },
  {
   "cell_type": "markdown",
   "metadata": {},
   "source": [
    "## Visualize the Raw EVT Data\n",
    "\n",
    "Let's create a visualization of the raw EVT data before processing. EVT values are categorical, representing different vegetation types."
   ]
  },
  {
   "cell_type": "code",
   "execution_count": null,
   "metadata": {},
   "source": [
    "# Create a simple colormap for EVT values\n",
    "# In a real application, you would use the actual EVT classification colors\n",
    "np.random.seed(42)  # For reproducible colors\n",
    "n_colors = 50  # Adjust based on number of unique values\n",
    "colors = np.random.rand(n_colors, 3)\n",
    "cmap = ListedColormap(colors)\n",
    "\n",
    "# Plot the EVT data\n",
    "plt.figure(figsize=(12, 8))\n",
    "evt_dataset.evt.plot(cmap=cmap)\n",
    "plt.title(\"LANDFIRE Existing Vegetation Type (EVT)\")\n",
    "plt.tight_layout()\n",
    "plt.show()\n",
    "\n",
    "# Print some basic statistics\n",
    "unique_values = np.unique(evt_dataset.evt.values)\n",
    "print(f\"Number of unique EVT values: {len(unique_values)}\")\n",
    "print(f\"Example EVT values: {unique_values[:10]}...\")"
   ]
  },
  {
   "cell_type": "markdown",
   "metadata": {},
   "source": [
    "## Reproject to Latitude/Longitude Coordinates\n",
    "\n",
    "Next, let's reproject the dataset to standard latitude/longitude coordinates for easier integration with other datasets."
   ]
  },
  {
   "cell_type": "code",
   "metadata": {},
   "source": "# Reproject the dataset to lat/lon\nreprojected = processor.reproject_to_latlon()\nprint(f\"Reprojected dataset coordinates: {list(reprojected.coords)}\")\nprint(f\"Latitude range: {float(reprojected.lat.min())} to {float(reprojected.lat.max())}\")\nprint(f\"Longitude range: {float(reprojected.lon.min())} to {float(reprojected.lon.max())}\")\n\n# Plot the reprojected data\nplt.figure(figsize=(12, 8))\nreprojected.evt.plot(cmap=cmap)\nplt.title(\"LANDFIRE EVT (Reprojected to Lat/Lon)\")\nplt.tight_layout()\nplt.show()",
   "outputs": []
  },
  {
   "cell_type": "markdown",
   "metadata": {},
   "source": [
    "## Apply Spatial Bucketing\n",
    "\n",
    "Now, let's aggregate the data into spatial buckets to match our datacube framework. For categorical data like EVT, we'll use the MODE aggregation method (most common value in each bucket)."
   ]
  },
  {
   "cell_type": "code",
   "execution_count": null,
   "metadata": {},
   "source": [
    "# Define the bucket sizes\n",
    "lat_bucket_size = 0.05  # about 5 km\n",
    "lon_bucket_size = 0.05  # about 5 km\n",
    "\n",
    "# Bucket the data using MODE aggregation (most common value)\n",
    "bucketed = processor.bucket_spatial(\n",
    "    lat_bucket_size=lat_bucket_size,\n",
    "    lon_bucket_size=lon_bucket_size,\n",
    "    agg_method=AggregationMethod.MODE\n",
    ")\n",
    "\n",
    "print(f\"Bucketed dataset dimensions: {bucketed.dims}\")\n",
    "print(f\"Original dimensions: {processor.processed_dataset.dims}\")\n",
    "print(f\"Reduction factor: {processor.processed_dataset.sizes['lat'] * processor.processed_dataset.sizes['lon'] / (len(bucketed.lat_bins) * len(bucketed.lon_bins)):.2f}x\")\n",
    "\n",
    "# Plot the bucketed data\n",
    "plt.figure(figsize=(12, 8))\n",
    "bucketed.evt.plot(cmap=cmap)\n",
    "plt.title(f\"LANDFIRE EVT (Bucketed {lat_bucket_size}° x {lon_bucket_size}°)\")\n",
    "plt.tight_layout()\n",
    "plt.show()"
   ]
  },
  {
   "cell_type": "markdown",
   "metadata": {},
   "source": [
    "## Integrate with Datacube Framework\n",
    "\n",
    "Now, let's demonstrate how to integrate the LANDFIRE EVT data with our datacube framework by combining it with another dataset."
   ]
  },
  {
   "cell_type": "code",
   "execution_count": null,
   "metadata": {},
   "source": [
    "# For demonstration, we'll create a simple climatic dataset\n",
    "# In a real application, this would be loaded from CMIP or other climate data\n",
    "\n",
    "# Create a synthetic temperature dataset for the same region\n",
    "lats = np.linspace(float(reprojected.lat.min()), float(reprojected.lat.max()), 20)\n",
    "lons = np.linspace(float(reprojected.lon.min()), float(reprojected.lon.max()), 20)\n",
    "times = np.array([np.datetime64('2020-01-01') + np.timedelta64(i*30, 'D') for i in range(12)])\n",
    "\n",
    "# Create synthetic temperature data with seasonal cycle\n",
    "temp_data = np.zeros((len(times), len(lats), len(lons)))\n",
    "for i, t in enumerate(range(len(times))):\n",
    "    # Seasonal cycle\n",
    "    seasonal = 15 * np.cos(2 * np.pi * t / 12) + 10\n",
    "    # Latitude gradient\n",
    "    lat_gradient = np.linspace(0, 5, len(lats))\n",
    "    # Random spatial variation\n",
    "    spatial_variation = np.random.rand(len(lats), len(lons)) * 2\n",
    "    \n",
    "    # Combine factors\n",
    "    temp_data[i, :, :] = seasonal - lat_gradient[:, np.newaxis] + spatial_variation\n",
    "\n",
    "# Create xarray dataset\n",
    "temp_dataset = xr.Dataset(\n",
    "    data_vars={\n",
    "        \"temperature\": ((\"time\", \"lat\", \"lon\"), temp_data, \n",
    "                        {\"units\": \"C\", \"long_name\": \"Surface Temperature\"})\n",
    "    },\n",
    "    coords={\n",
    "        \"lon\": (\"lon\", lons, {\"units\": \"degrees_east\", \"long_name\": \"longitude\"}),\n",
    "        \"lat\": (\"lat\", lats, {\"units\": \"degrees_north\", \"long_name\": \"latitude\"}),\n",
    "        \"time\": (\"time\", times, {\"long_name\": \"time\"})\n",
    "    }\n",
    ")\n",
    "\n",
    "# Plot the temperature dataset for the first time point\n",
    "plt.figure(figsize=(10, 6))\n",
    "temp_dataset.temperature.isel(time=0).plot(cmap='viridis')\n",
    "plt.title(f\"Synthetic Temperature Data ({times[0]})\")\n",
    "plt.tight_layout()\n",
    "plt.show()"
   ]
  },
  {
   "cell_type": "markdown",
   "metadata": {},
   "source": [
    "## Combine Datasets with DatacubeBuilder\n",
    "\n",
    "Now, let's use our DatacubeBuilder to combine the EVT and temperature datasets."
   ]
  },
  {
   "cell_type": "code",
   "execution_count": null,
   "metadata": {},
   "source": [
    "# Initialize the datacube builder\n",
    "builder = DatacubeBuilder()\n",
    "\n",
    "# Add our datasets\n",
    "builder.add_dataset(\"evt\", bucketed)\n",
    "builder.add_dataset(\"temperature\", temp_dataset)\n",
    "\n",
    "# Build a unified datacube\n",
    "unified_cube = builder.build_datacube(\n",
    "    lat_resolution=0.1,\n",
    "    lon_resolution=0.1,\n",
    "    time_resolution='1MS',  # Monthly\n",
    "    interpolation_method=InterpolationMethod.NEAREST  # Nearest neighbor is best for categorical data\n",
    ")\n",
    "\n",
    "print(f\"Unified datacube dimensions: {unified_cube.dims}\")\n",
    "print(f\"Variables: {list(unified_cube.data_vars)}\")"
   ]
  },
  {
   "cell_type": "markdown",
   "metadata": {},
   "source": [
    "## Analyze Relationships between Vegetation Type and Temperature\n",
    "\n",
    "Now that we have vegetation and temperature data in a unified datacube, we can start to analyze relationships between them."
   ]
  },
  {
   "cell_type": "code",
   "execution_count": null,
   "metadata": {},
   "source": [
    "# Plot both datasets for visual comparison\n",
    "fig, axes = plt.subplots(1, 2, figsize=(18, 6))\n",
    "\n",
    "# Plot EVT\n",
    "unified_cube.evt_evt.isel(time=0).plot(ax=axes[0], cmap=cmap)\n",
    "axes[0].set_title(\"Existing Vegetation Type\")\n",
    "\n",
    "# Plot Temperature for same time\n",
    "unified_cube.temperature_temperature.isel(time=0).plot(ax=axes[1], cmap='viridis')\n",
    "axes[1].set_title(f\"Temperature ({unified_cube.time.values[0]})\")\n",
    "\n",
    "plt.tight_layout()\n",
    "plt.show()"
   ]
  },
  {
   "cell_type": "markdown",
   "metadata": {},
   "source": [
    "## Calculate Statistics by Vegetation Type\n",
    "\n",
    "Let's compute temperature statistics for each vegetation type."
   ]
  },
  {
   "cell_type": "code",
   "execution_count": null,
   "metadata": {},
   "source": [
    "# First, let's get a flattened view of the data for the first time step\n",
    "time_idx = 0\n",
    "evt_flat = unified_cube.evt_evt.isel(time=time_idx).values.flatten()\n",
    "temp_flat = unified_cube.temperature_temperature.isel(time=time_idx).values.flatten()\n",
    "\n",
    "# Remove NaN values\n",
    "mask = ~(np.isnan(evt_flat) | np.isnan(temp_flat))\n",
    "evt_flat = evt_flat[mask]\n",
    "temp_flat = temp_flat[mask]\n",
    "\n",
    "# Calculate statistics by vegetation type\n",
    "evt_types = np.unique(evt_flat)\n",
    "stats = []\n",
    "\n",
    "for evt_val in evt_types:\n",
    "    # Find all temperature values for this vegetation type\n",
    "    temps = temp_flat[evt_flat == evt_val]\n",
    "    \n",
    "    if len(temps) > 0:\n",
    "        stats.append({\n",
    "            \"EVT\": int(evt_val),\n",
    "            \"Count\": len(temps),\n",
    "            \"Min Temp\": temps.min(),\n",
    "            \"Max Temp\": temps.max(),\n",
    "            \"Mean Temp\": temps.mean(),\n",
    "            \"Std Temp\": temps.std()\n",
    "        })\n",
    "\n",
    "# Create a dataframe\n",
    "stats_df = pd.DataFrame(stats)\n",
    "stats_df = stats_df.sort_values(\"Mean Temp\", ascending=False)\n",
    "\n",
    "# Display the top 10 vegetation types by mean temperature\n",
    "stats_df.head(10)"
   ]
  },
  {
   "cell_type": "markdown",
   "metadata": {},
   "source": [
    "## Visualize Temperature Distribution by Vegetation Type\n",
    "\n",
    "Let's create a visualization of temperature distributions for different vegetation types."
   ]
  },
  {
   "cell_type": "code",
   "execution_count": null,
   "metadata": {},
   "source": [
    "# Select the top 5 most common vegetation types\n",
    "top_types = stats_df.sort_values(\"Count\", ascending=False).head(5)[\"EVT\"].values\n",
    "\n",
    "# Create a box plot of temperatures for each vegetation type\n",
    "plt.figure(figsize=(14, 8))\n",
    "\n",
    "box_data = []\n",
    "labels = []\n",
    "\n",
    "for evt_val in top_types:\n",
    "    temps = temp_flat[evt_flat == evt_val]\n",
    "    box_data.append(temps)\n",
    "    labels.append(f\"EVT {evt_val}\")\n",
    "\n",
    "plt.boxplot(box_data, labels=labels)\n",
    "plt.title(\"Temperature Distribution by Vegetation Type\")\n",
    "plt.xlabel(\"Vegetation Type\")\n",
    "plt.ylabel(\"Temperature (°C)\")\n",
    "plt.grid(True, linestyle='--', alpha=0.7)\n",
    "plt.tight_layout()\n",
    "plt.show()"
   ]
  },
  {
   "cell_type": "markdown",
   "metadata": {},
   "source": [
    "## Time Series Analysis for a Specific Location\n",
    "\n",
    "Let's extract and analyze the temperature time series for a specific location and vegetation type."
   ]
  },
  {
   "cell_type": "code",
   "execution_count": null,
   "metadata": {},
   "source": [
    "# Find coordinates for a location with a specific vegetation type\n",
    "# First, get a specific vegetation type (use the most common one)\n",
    "common_evt = stats_df.sort_values(\"Count\", ascending=False).iloc[0][\"EVT\"]\n",
    "\n",
    "# Find the first occurrence of this type\n",
    "evt_data = unified_cube.evt_evt.isel(time=0)\n",
    "coords = np.where(evt_data.values == common_evt)\n",
    "\n",
    "if len(coords[0]) > 0:\n",
    "    # Get the lat/lon indices\n",
    "    lat_idx = coords[0][0]\n",
    "    lon_idx = coords[1][0]\n",
    "    \n",
    "    # Get actual coordinates\n",
    "    lat_val = float(unified_cube.lat[lat_idx])\n",
    "    lon_val = float(unified_cube.lon[lon_idx])\n",
    "    \n",
    "    print(f\"Selected location: Lat {lat_val:.4f}, Lon {lon_val:.4f}\")\n",
    "    print(f\"Vegetation type: {int(evt_data.values[lat_idx, lon_idx])}\")\n",
    "    \n",
    "    # Extract temperature time series\n",
    "    temp_series = unified_cube.temperature_temperature.sel(lat=lat_val, lon=lon_val, method=\"nearest\")\n",
    "    \n",
    "    # Plot the time series\n",
    "    plt.figure(figsize=(12, 6))\n",
    "    temp_series.plot(marker='o')\n",
    "    plt.title(f\"Temperature Time Series for Vegetation Type {int(common_evt)}\")\n",
    "    plt.xlabel(\"Date\")\n",
    "    plt.ylabel(\"Temperature (°C)\")\n",
    "    plt.grid(True)\n",
    "    plt.tight_layout()\n",
    "    plt.show()\n",
    "else:\n",
    "    print(f\"No locations found with vegetation type {common_evt}\")"
   ]
  },
  {
   "cell_type": "markdown",
   "metadata": {},
   "source": [
    "## Save the Combined Datacube\n",
    "\n",
    "Finally, let's save our combined datacube for future use."
   ]
  },
  {
   "cell_type": "code",
   "metadata": {},
   "source": "# Save the datacube to a NetCDF file\noutput_path = \"./data/processed/evt_temperature_datacube.nc\"\nos.makedirs(os.path.dirname(output_path), exist_ok=True)\nbuilder.save_datacube(output_path)\nprint(f\"Saved combined datacube to {output_path}\")",
   "outputs": []
  },
  {
   "cell_type": "markdown",
   "metadata": {},
   "source": [
    "## Conclusion\n",
    "\n",
    "In this notebook, we've demonstrated how to:\n",
    "\n",
    "1. Download and process LANDFIRE Existing Vegetation Type (EVT) data\n",
    "2. Convert the data to an xarray Dataset format\n",
    "3. Reproject the data to latitude/longitude coordinates\n",
    "4. Apply spatial bucketing using mode (most common value) aggregation for categorical data\n",
    "5. Combine the EVT data with temperature data in a unified datacube\n",
    "6. Analyze relationships between vegetation types and temperature\n",
    "7. Save the combined datacube for future use\n",
    "\n",
    "This approach can be extended to include additional datasets and to analyze more complex relationships between vegetation types and climate variables."
   ]
  }
 ],
 "metadata": {
  "kernelspec": {
   "display_name": "Python 3",
   "language": "python",
   "name": "python3"
  },
  "language_info": {
   "codemirror_mode": {
    "name": "ipython",
    "version": 3
   },
   "file_extension": ".py",
   "mimetype": "text/x-python",
   "name": "python",
   "nbconvert_exporter": "python",
   "pygments_lexer": "ipython3",
   "version": "3.10.0"
  }
 },
 "nbformat": 4,
 "nbformat_minor": 4
}