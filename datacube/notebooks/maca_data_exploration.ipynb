{
 "cells": [
  {
   "cell_type": "markdown",
   "metadata": {},
   "source": [
    "# MACA Climate Data Exploration & Visualization\n",
    "\n",
    "This notebook provides comprehensive visualization and analysis tools for your downloaded MACA v2 seasonal climate data.\n",
    "\n",
    "## Analysis Categories:\n",
    "1. **Time Series Analysis** - Long-term trends and changes\n",
    "2. **Seasonal Distribution Shifts** - How seasons are changing\n",
    "3. **Spatial Change Maps** - Where changes are largest\n",
    "4. **Scenario Comparisons** - RCP4.5 vs RCP8.5 impacts\n",
    "5. **Extreme Events** - Heat waves, temperature extremes\n",
    "6. **Climate Velocity** - Rate of change analysis\n",
    "7. **Interactive Dashboards** - Explore data dynamically"
   ]
  },
  {
   "cell_type": "code",
   "execution_count": 17,
   "metadata": {},
   "outputs": [
    {
     "name": "stdout",
     "output_type": "stream",
     "text": [
      "✅ Libraries loaded\n",
      "🌡️  Temperature unit: F (Fahrenheit)\n",
      "📊 Interactive plots: Available\n",
      "🗺️  GeoTIFF support: Available\n"
     ]
    }
   ],
   "source": [
    "import numpy as np\n",
    "import pandas as pd\n",
    "import xarray as xr\n",
    "import matplotlib.pyplot as plt\n",
    "import matplotlib.dates as mdates\n",
    "import seaborn as sns\n",
    "from pathlib import Path\n",
    "import warnings\n",
    "from datetime import datetime\n",
    "import glob\n",
    "from scipy import stats\n",
    "import cartopy.crs as ccrs\n",
    "import cartopy.feature as cfeature\n",
    "from matplotlib.colors import TwoSlopeNorm\n",
    "\n",
    "# ===== CONFIGURATION PARAMETERS =====\n",
    "# Temperature unit preference: 'C' for Celsius, 'F' for Fahrenheit, 'K' for Kelvin\n",
    "TEMP_UNIT = 'F'  # Change this to 'C' for Celsius or 'K' to keep Kelvin\n",
    "\n",
    "# Temperature conversion functions\n",
    "def kelvin_to_celsius(k):\n",
    "    \"\"\"Convert Kelvin to Celsius\"\"\"\n",
    "    return k - 273.15\n",
    "\n",
    "def kelvin_to_fahrenheit(k):\n",
    "    \"\"\"Convert Kelvin to Fahrenheit\"\"\"\n",
    "    return (k - 273.15) * 9/5 + 32\n",
    "\n",
    "def convert_temperature(data_array, to_unit='C'):\n",
    "    \"\"\"Convert temperature data from Kelvin to specified unit\"\"\"\n",
    "    if to_unit == 'K':\n",
    "        return data_array\n",
    "    elif to_unit == 'C':\n",
    "        return kelvin_to_celsius(data_array)\n",
    "    elif to_unit == 'F':\n",
    "        return kelvin_to_fahrenheit(data_array)\n",
    "    else:\n",
    "        raise ValueError(f\"Unknown temperature unit: {to_unit}\")\n",
    "\n",
    "def get_temp_unit_label(variable, unit=TEMP_UNIT):\n",
    "    \"\"\"Get temperature unit label for plots\"\"\"\n",
    "    if 'tas' in variable:  # temperature variable\n",
    "        return f'°{unit}'\n",
    "    else:  # precipitation or other\n",
    "        return 'mm/day'\n",
    "\n",
    "# Optional advanced packages\n",
    "try:\n",
    "    import plotly.express as px\n",
    "    import plotly.graph_objects as go\n",
    "    from plotly.subplots import make_subplots\n",
    "    PLOTLY_AVAILABLE = True\n",
    "except ImportError:\n",
    "    PLOTLY_AVAILABLE = False\n",
    "    print(\"📝 Install plotly for interactive visualizations: pip install plotly\")\n",
    "\n",
    "try:\n",
    "    import rioxarray as rxr\n",
    "    RIOXARRAY_AVAILABLE = True\n",
    "except ImportError:\n",
    "    RIOXARRAY_AVAILABLE = False\n",
    "    print(\"📝 Install rioxarray for GeoTIFF support: pip install rioxarray\")\n",
    "\n",
    "warnings.filterwarnings('ignore')\n",
    "plt.style.use('default')\n",
    "sns.set_palette(\"husl\")\n",
    "\n",
    "print(\"✅ Libraries loaded\")\n",
    "print(f\"🌡️  Temperature unit: {TEMP_UNIT} ({'Celsius' if TEMP_UNIT == 'C' else 'Fahrenheit' if TEMP_UNIT == 'F' else 'Kelvin'})\")\n",
    "print(f\"📊 Interactive plots: {'Available' if PLOTLY_AVAILABLE else 'Not available'}\")\n",
    "print(f\"🗺️  GeoTIFF support: {'Available' if RIOXARRAY_AVAILABLE else 'Not available'}\")"
   ]
  },
  {
   "cell_type": "markdown",
   "metadata": {},
   "source": [
    "## 1. Load and Organize Your Downloaded Data\n",
    "\n",
    "First, let's scan your downloaded files and organize them for analysis."
   ]
  },
  {
   "cell_type": "code",
   "execution_count": 18,
   "metadata": {},
   "outputs": [
    {
     "name": "stdout",
     "output_type": "stream",
     "text": [
      "🔍 Scanning for data in: ../data/maca\n",
      "✅ Found 943 MACA files\n",
      "📊 Variables: ['pr', 'tasmax', 'tasmin']\n",
      "🌍 Models: ['GFDL-ESM2M']\n",
      "📈 Scenarios: ['historical', 'rcp45', 'rcp85']\n",
      "🗓️  Time range: 1950-2099\n",
      "🌿 Seasons: ['DJF', 'JJA', 'MAM', 'SON']\n",
      "\n",
      "📋 Sample files:\n"
     ]
    },
    {
     "data": {
      "text/html": [
       "<div>\n",
       "<style scoped>\n",
       "    .dataframe tbody tr th:only-of-type {\n",
       "        vertical-align: middle;\n",
       "    }\n",
       "\n",
       "    .dataframe tbody tr th {\n",
       "        vertical-align: top;\n",
       "    }\n",
       "\n",
       "    .dataframe thead th {\n",
       "        text-align: right;\n",
       "    }\n",
       "</style>\n",
       "<table border=\"1\" class=\"dataframe\">\n",
       "  <thead>\n",
       "    <tr style=\"text-align: right;\">\n",
       "      <th></th>\n",
       "      <th>path</th>\n",
       "      <th>variable</th>\n",
       "      <th>model</th>\n",
       "      <th>scenario</th>\n",
       "      <th>year_start</th>\n",
       "      <th>year_end</th>\n",
       "      <th>season</th>\n",
       "      <th>period_mid</th>\n",
       "    </tr>\n",
       "  </thead>\n",
       "  <tbody>\n",
       "    <tr>\n",
       "      <th>0</th>\n",
       "      <td>../data/maca/MACA_Seasonal-historical-GFDL-ESM...</td>\n",
       "      <td>tasmin</td>\n",
       "      <td>GFDL-ESM2M</td>\n",
       "      <td>historical</td>\n",
       "      <td>2001</td>\n",
       "      <td>2003</td>\n",
       "      <td>SON</td>\n",
       "      <td>2002.0</td>\n",
       "    </tr>\n",
       "    <tr>\n",
       "      <th>1</th>\n",
       "      <td>../data/maca/MACA_Seasonal-historical-GFDL-ESM...</td>\n",
       "      <td>tasmin</td>\n",
       "      <td>GFDL-ESM2M</td>\n",
       "      <td>historical</td>\n",
       "      <td>1968</td>\n",
       "      <td>1970</td>\n",
       "      <td>DJF</td>\n",
       "      <td>1969.0</td>\n",
       "    </tr>\n",
       "    <tr>\n",
       "      <th>2</th>\n",
       "      <td>../data/maca/MACA_Seasonal-historical-GFDL-ESM...</td>\n",
       "      <td>tasmin</td>\n",
       "      <td>GFDL-ESM2M</td>\n",
       "      <td>historical</td>\n",
       "      <td>1971</td>\n",
       "      <td>1973</td>\n",
       "      <td>DJF</td>\n",
       "      <td>1972.0</td>\n",
       "    </tr>\n",
       "    <tr>\n",
       "      <th>3</th>\n",
       "      <td>../data/maca/MACA_Seasonal-historical-GFDL-ESM...</td>\n",
       "      <td>tasmin</td>\n",
       "      <td>GFDL-ESM2M</td>\n",
       "      <td>historical</td>\n",
       "      <td>1986</td>\n",
       "      <td>1988</td>\n",
       "      <td>MAM</td>\n",
       "      <td>1987.0</td>\n",
       "    </tr>\n",
       "    <tr>\n",
       "      <th>4</th>\n",
       "      <td>../data/maca/MACA_Seasonal-historical-GFDL-ESM...</td>\n",
       "      <td>tasmin</td>\n",
       "      <td>GFDL-ESM2M</td>\n",
       "      <td>historical</td>\n",
       "      <td>2004</td>\n",
       "      <td>2005</td>\n",
       "      <td>JJA</td>\n",
       "      <td>2004.5</td>\n",
       "    </tr>\n",
       "    <tr>\n",
       "      <th>5</th>\n",
       "      <td>../data/maca/MACA_Seasonal-historical-GFDL-ESM...</td>\n",
       "      <td>tasmin</td>\n",
       "      <td>GFDL-ESM2M</td>\n",
       "      <td>historical</td>\n",
       "      <td>1974</td>\n",
       "      <td>1976</td>\n",
       "      <td>DJF</td>\n",
       "      <td>1975.0</td>\n",
       "    </tr>\n",
       "    <tr>\n",
       "      <th>6</th>\n",
       "      <td>../data/maca/MACA_Seasonal-historical-GFDL-ESM...</td>\n",
       "      <td>tasmin</td>\n",
       "      <td>GFDL-ESM2M</td>\n",
       "      <td>historical</td>\n",
       "      <td>1956</td>\n",
       "      <td>1958</td>\n",
       "      <td>DJF</td>\n",
       "      <td>1957.0</td>\n",
       "    </tr>\n",
       "    <tr>\n",
       "      <th>7</th>\n",
       "      <td>../data/maca/MACA_Seasonal-historical-GFDL-ESM...</td>\n",
       "      <td>tasmin</td>\n",
       "      <td>GFDL-ESM2M</td>\n",
       "      <td>historical</td>\n",
       "      <td>1983</td>\n",
       "      <td>1985</td>\n",
       "      <td>DJF</td>\n",
       "      <td>1984.0</td>\n",
       "    </tr>\n",
       "    <tr>\n",
       "      <th>8</th>\n",
       "      <td>../data/maca/MACA_Seasonal-historical-GFDL-ESM...</td>\n",
       "      <td>tasmin</td>\n",
       "      <td>GFDL-ESM2M</td>\n",
       "      <td>historical</td>\n",
       "      <td>1953</td>\n",
       "      <td>1955</td>\n",
       "      <td>MAM</td>\n",
       "      <td>1954.0</td>\n",
       "    </tr>\n",
       "    <tr>\n",
       "      <th>9</th>\n",
       "      <td>../data/maca/MACA_Seasonal-historical-GFDL-ESM...</td>\n",
       "      <td>tasmin</td>\n",
       "      <td>GFDL-ESM2M</td>\n",
       "      <td>historical</td>\n",
       "      <td>1959</td>\n",
       "      <td>1961</td>\n",
       "      <td>MAM</td>\n",
       "      <td>1960.0</td>\n",
       "    </tr>\n",
       "  </tbody>\n",
       "</table>\n",
       "</div>"
      ],
      "text/plain": [
       "                                                path variable       model  \\\n",
       "0  ../data/maca/MACA_Seasonal-historical-GFDL-ESM...   tasmin  GFDL-ESM2M   \n",
       "1  ../data/maca/MACA_Seasonal-historical-GFDL-ESM...   tasmin  GFDL-ESM2M   \n",
       "2  ../data/maca/MACA_Seasonal-historical-GFDL-ESM...   tasmin  GFDL-ESM2M   \n",
       "3  ../data/maca/MACA_Seasonal-historical-GFDL-ESM...   tasmin  GFDL-ESM2M   \n",
       "4  ../data/maca/MACA_Seasonal-historical-GFDL-ESM...   tasmin  GFDL-ESM2M   \n",
       "5  ../data/maca/MACA_Seasonal-historical-GFDL-ESM...   tasmin  GFDL-ESM2M   \n",
       "6  ../data/maca/MACA_Seasonal-historical-GFDL-ESM...   tasmin  GFDL-ESM2M   \n",
       "7  ../data/maca/MACA_Seasonal-historical-GFDL-ESM...   tasmin  GFDL-ESM2M   \n",
       "8  ../data/maca/MACA_Seasonal-historical-GFDL-ESM...   tasmin  GFDL-ESM2M   \n",
       "9  ../data/maca/MACA_Seasonal-historical-GFDL-ESM...   tasmin  GFDL-ESM2M   \n",
       "\n",
       "     scenario  year_start  year_end season  period_mid  \n",
       "0  historical        2001      2003    SON      2002.0  \n",
       "1  historical        1968      1970    DJF      1969.0  \n",
       "2  historical        1971      1973    DJF      1972.0  \n",
       "3  historical        1986      1988    MAM      1987.0  \n",
       "4  historical        2004      2005    JJA      2004.5  \n",
       "5  historical        1974      1976    DJF      1975.0  \n",
       "6  historical        1956      1958    DJF      1957.0  \n",
       "7  historical        1983      1985    DJF      1984.0  \n",
       "8  historical        1953      1955    MAM      1954.0  \n",
       "9  historical        1959      1961    MAM      1960.0  "
      ]
     },
     "metadata": {},
     "output_type": "display_data"
    }
   ],
   "source": [
    "# Set path to your downloaded data\n",
    "DATA_PATH = Path(\"../data/maca\")  # Updated to use your local data directory\n",
    "\n",
    "print(f\"🔍 Scanning for data in: {DATA_PATH}\")\n",
    "\n",
    "def scan_maca_files(data_path):\n",
    "    \"\"\"Scan and organize MACA files into a structured inventory.\"\"\"\n",
    "    \n",
    "    files = []\n",
    "    \n",
    "    # Look for .tif files recursively\n",
    "    for tif_file in data_path.rglob(\"*.tif\"):\n",
    "        # Parse filename: variable_GFDL-ESM2M_scenario_yearstart_yearend_season.tif\n",
    "        # Handle duplicate files like tasmin_GFDL-ESM2M_historical_1950_1952_DJF(1).tif\n",
    "        filename = tif_file.stem\n",
    "        if filename.endswith(')'):  # Skip duplicate files\n",
    "            continue\n",
    "            \n",
    "        parts = filename.split('_')\n",
    "        if len(parts) >= 6:\n",
    "            try:\n",
    "                files.append({\n",
    "                    'path': tif_file,\n",
    "                    'variable': parts[0],\n",
    "                    'model': parts[1],  # GFDL-ESM2M\n",
    "                    'scenario': parts[2],\n",
    "                    'year_start': int(parts[3]),\n",
    "                    'year_end': int(parts[4]),\n",
    "                    'season': parts[5],\n",
    "                    'period_mid': (int(parts[3]) + int(parts[4])) / 2\n",
    "                })\n",
    "            except ValueError:\n",
    "                print(f\"⚠️  Skipping file with unexpected format: {filename}\")\n",
    "                continue\n",
    "    \n",
    "    if not files:\n",
    "        print(\"❌ No MACA files found!\")\n",
    "        print(f\"   Make sure files are in: {data_path}\")\n",
    "        print(\"   Expected format: variable_model_scenario_startYear_endYear_season.tif\")\n",
    "        return None\n",
    "    \n",
    "    df = pd.DataFrame(files)\n",
    "    \n",
    "    print(f\"✅ Found {len(files)} MACA files\")\n",
    "    print(f\"📊 Variables: {sorted(df.variable.unique())}\")\n",
    "    print(f\"🌍 Models: {sorted(df.model.unique())}\")\n",
    "    print(f\"📈 Scenarios: {sorted(df.scenario.unique())}\")\n",
    "    print(f\"🗓️  Time range: {df.year_start.min()}-{df.year_end.max()}\")\n",
    "    print(f\"🌿 Seasons: {sorted(df.season.unique())}\")\n",
    "    \n",
    "    return df\n",
    "\n",
    "# Scan your data\n",
    "file_inventory = scan_maca_files(DATA_PATH)\n",
    "\n",
    "if file_inventory is not None:\n",
    "    # Show sample of files\n",
    "    print(\"\\n📋 Sample files:\")\n",
    "    display(file_inventory.head(10))"
   ]
  },
  {
   "cell_type": "markdown",
   "metadata": {},
   "source": [
    "## 2. Helper Functions for Data Loading\n",
    "\n",
    "These functions will help you load and process the GeoTIFF files efficiently."
   ]
  },
  {
   "cell_type": "code",
   "execution_count": 19,
   "metadata": {},
   "outputs": [
    {
     "name": "stdout",
     "output_type": "stream",
     "text": [
      "✅ Helper functions defined with temperature conversion\n"
     ]
    }
   ],
   "source": [
    "def load_maca_file(file_path):\n",
    "    \"\"\"Load a single MACA GeoTIFF file.\"\"\"\n",
    "    if RIOXARRAY_AVAILABLE:\n",
    "        return rxr.open_rasterio(file_path, chunks=True).squeeze()\n",
    "    else:\n",
    "        return xr.open_rasterio(file_path, chunks=True).squeeze()\n",
    "\n",
    "def load_variable_timeseries(file_df, variable, scenario, model=None, season=None):\n",
    "    \"\"\"Load time series for a specific variable.\"\"\"\n",
    "    \n",
    "    # Filter files\n",
    "    mask = (file_df.variable == variable) & (file_df.scenario == scenario)\n",
    "    if model:\n",
    "        mask &= (file_df.model == model)\n",
    "    if season:\n",
    "        mask &= (file_df.season == season)\n",
    "    \n",
    "    filtered_files = file_df[mask].sort_values('period_mid')\n",
    "    \n",
    "    if len(filtered_files) == 0:\n",
    "        print(f\"❌ No files found for {variable} {scenario}\")\n",
    "        return None\n",
    "    \n",
    "    print(f\"📊 Loading {len(filtered_files)} files for {variable} {scenario}\")\n",
    "    \n",
    "    datasets = []\n",
    "    times = []\n",
    "    \n",
    "    for _, row in filtered_files.iterrows():\n",
    "        try:\n",
    "            ds = load_maca_file(row.path)\n",
    "            \n",
    "            # Convert temperature if needed\n",
    "            if 'tas' in variable:  # temperature variable\n",
    "                ds = convert_temperature(ds, to_unit=TEMP_UNIT)\n",
    "            \n",
    "            ds = ds.assign_coords(time=row.period_mid)\n",
    "            datasets.append(ds)\n",
    "            times.append(row.period_mid)\n",
    "        except Exception as e:\n",
    "            print(f\"⚠️  Error loading {row.path}: {e}\")\n",
    "    \n",
    "    if not datasets:\n",
    "        return None\n",
    "    \n",
    "    # Combine along time dimension\n",
    "    combined = xr.concat(datasets, dim='time')\n",
    "    combined = combined.assign_coords(time=('time', times))\n",
    "    \n",
    "    return combined\n",
    "\n",
    "def extract_point_timeseries(data_array, lat, lon):\n",
    "    \"\"\"Extract time series for a specific point.\"\"\"\n",
    "    return data_array.sel(x=lon, y=lat, method='nearest')\n",
    "\n",
    "def extract_region_mean(data_array, lat_bounds=None, lon_bounds=None):\n",
    "    \"\"\"Extract regional mean time series.\"\"\"\n",
    "    if lat_bounds and lon_bounds:\n",
    "        return data_array.sel(\n",
    "            y=slice(lat_bounds[1], lat_bounds[0]),  # Note: reversed for descending coords\n",
    "            x=slice(lon_bounds[0], lon_bounds[1])\n",
    "        ).mean(dim=['x', 'y'])\n",
    "    else:\n",
    "        return data_array.mean(dim=['x', 'y'])\n",
    "\n",
    "print(\"✅ Helper functions defined with temperature conversion\")"
   ]
  },
  {
   "cell_type": "markdown",
   "metadata": {},
   "source": [
    "## 3. Time Series Analysis - \"Is it changing in broad strokes?\"\n",
    "\n",
    "Let's examine long-term trends across your climate variables."
   ]
  },
  {
   "cell_type": "code",
   "execution_count": 20,
   "metadata": {},
   "outputs": [
    {
     "name": "stdout",
     "output_type": "stream",
     "text": [
      "📈 Analyzing pr trends...\n",
      "📊 Loading 76 files for pr historical\n",
      "📊 Loading 128 files for pr rcp45\n",
      "📊 Loading 75 files for pr rcp85\n",
      "📊 Loading 19 files for pr rcp85\n",
      "📊 Loading 19 files for pr rcp85\n",
      "📊 Loading 19 files for pr rcp85\n",
      "📊 Loading 18 files for pr rcp85\n"
     ]
    },
    {
     "data": {
      "image/png": "[encoded data removed]",
      "text/plain": [
       "<Figure size 1500x1000 with 4 Axes>"
      ]
     },
     "metadata": {},
     "output_type": "display_data"
    },
    {
     "name": "stdout",
     "output_type": "stream",
     "text": [
      "\n",
      "📊 TREND SUMMARY:\n",
      "   Historical: -0.0008/decade (R² = 0.000) \n",
      "   RCP4.5: -0.0009/decade (R² = 0.001) \n",
      "   RCP8.5: 0.0042/decade (R² = 0.009) \n"
     ]
    }
   ],
   "source": [
    "# Configuration - adjust these for your data\n",
    "VARIABLE = 'pr'  # Change to 'tasmin' or 'pr' as needed\n",
    "MODEL = 'GFDL-ESM2M'  # Your climate model\n",
    "\n",
    "# Load historical and future data\n",
    "print(f\"📈 Analyzing {VARIABLE} trends...\")\n",
    "\n",
    "# Load data for each scenario\n",
    "hist_data = load_variable_timeseries(file_inventory, VARIABLE, 'historical', MODEL)\n",
    "rcp45_data = load_variable_timeseries(file_inventory, VARIABLE, 'rcp45', MODEL)\n",
    "rcp85_data = load_variable_timeseries(file_inventory, VARIABLE, 'rcp85', MODEL)\n",
    "\n",
    "if hist_data is not None:\n",
    "    # Extract regional means for time series\n",
    "    hist_mean = extract_region_mean(hist_data)\n",
    "    \n",
    "    if rcp45_data is not None:\n",
    "        rcp45_mean = extract_region_mean(rcp45_data)\n",
    "    if rcp85_data is not None:\n",
    "        rcp85_mean = extract_region_mean(rcp85_data)\n",
    "    \n",
    "    # Create comprehensive time series plot\n",
    "    fig, axes = plt.subplots(2, 2, figsize=(15, 10))\n",
    "    fig.suptitle(f'{VARIABLE.upper()} Climate Trends - {MODEL}', fontsize=16, fontweight='bold')\n",
    "    \n",
    "    # Get unit label\n",
    "    unit_label = get_temp_unit_label(VARIABLE)\n",
    "    \n",
    "    # 1. Full time series\n",
    "    ax1 = axes[0, 0]\n",
    "    ax1.plot(hist_mean.time, hist_mean, 'o-', label='Historical', color='black', linewidth=2)\n",
    "    if rcp45_data is not None:\n",
    "        ax1.plot(rcp45_mean.time, rcp45_mean, 'o-', label='RCP4.5', color='orange', linewidth=2)\n",
    "    if rcp85_data is not None:\n",
    "        ax1.plot(rcp85_mean.time, rcp85_mean, 'o-', label='RCP8.5', color='red', linewidth=2)\n",
    "    \n",
    "    ax1.set_title('Regional Mean Time Series')\n",
    "    ax1.set_xlabel('Year')\n",
    "    ax1.set_ylabel(f'{VARIABLE} ({unit_label})')\n",
    "    ax1.legend()\n",
    "    ax1.grid(True, alpha=0.3)\n",
    "    \n",
    "    # 2. Trend analysis\n",
    "    ax2 = axes[0, 1]\n",
    "    \n",
    "    def calculate_trend(time_series):\n",
    "        \"\"\"Calculate linear trend.\"\"\"\n",
    "        x = time_series.time.values\n",
    "        y = time_series.values\n",
    "        slope, intercept, r_value, p_value, std_err = stats.linregress(x, y)\n",
    "        return slope, r_value**2, p_value\n",
    "    \n",
    "    trends = {}\n",
    "    if hist_data is not None:\n",
    "        trends['Historical'] = calculate_trend(hist_mean)\n",
    "    if rcp45_data is not None:\n",
    "        trends['RCP4.5'] = calculate_trend(rcp45_mean)\n",
    "    if rcp85_data is not None:\n",
    "        trends['RCP8.5'] = calculate_trend(rcp85_mean)\n",
    "    \n",
    "    scenarios = list(trends.keys())\n",
    "    slopes = [trends[s][0] for s in scenarios]\n",
    "    colors = ['black', 'orange', 'red'][:len(scenarios)]\n",
    "    \n",
    "    bars = ax2.bar(scenarios, slopes, color=colors, alpha=0.7)\n",
    "    ax2.set_title(f'Climate Trends ({unit_label}/decade)')\n",
    "    ax2.set_ylabel('Trend Slope')\n",
    "    ax2.grid(True, alpha=0.3)\n",
    "    \n",
    "    # Add values on bars\n",
    "    for bar, slope in zip(bars, slopes):\n",
    "        height = bar.get_height()\n",
    "        ax2.text(bar.get_x() + bar.get_width()/2., height,\n",
    "                f'{slope:.3f}', ha='center', va='bottom')\n",
    "    \n",
    "    # 3. Seasonal comparison (if seasonal data available)\n",
    "    ax3 = axes[1, 0]\n",
    "    seasons = ['DJF', 'MAM', 'JJA', 'SON']\n",
    "    seasonal_trends = {}\n",
    "    \n",
    "    for season in seasons:\n",
    "        season_data = load_variable_timeseries(file_inventory, VARIABLE, 'rcp85', MODEL, season)\n",
    "        if season_data is not None:\n",
    "            season_mean = extract_region_mean(season_data)\n",
    "            trend = calculate_trend(season_mean)[0]\n",
    "            seasonal_trends[season] = trend\n",
    "    \n",
    "    if seasonal_trends:\n",
    "        seasons_list = list(seasonal_trends.keys())\n",
    "        trend_values = list(seasonal_trends.values())\n",
    "        \n",
    "        bars = ax3.bar(seasons_list, trend_values, \n",
    "                      color=['blue', 'green', 'red', 'orange'], alpha=0.7)\n",
    "        ax3.set_title('Seasonal Trends (RCP8.5)')\n",
    "        ax3.set_ylabel('Trend Slope')\n",
    "        ax3.grid(True, alpha=0.3)\n",
    "        \n",
    "        for bar, trend in zip(bars, trend_values):\n",
    "            height = bar.get_height()\n",
    "            ax3.text(bar.get_x() + bar.get_width()/2., height,\n",
    "                    f'{trend:.3f}', ha='center', va='bottom')\n",
    "    else:\n",
    "        ax3.text(0.5, 0.5, 'No seasonal data\\navailable', \n",
    "                ha='center', va='center', transform=ax3.transAxes)\n",
    "    \n",
    "    # 4. Change magnitude\n",
    "    ax4 = axes[1, 1]\n",
    "    \n",
    "    # Calculate total change from historical baseline\n",
    "    hist_baseline = float(hist_mean.mean())\n",
    "    changes = {}\n",
    "    \n",
    "    if rcp45_data is not None:\n",
    "        rcp45_future = float(rcp45_mean.isel(time=-1))  # Last time point\n",
    "        changes['RCP4.5'] = rcp45_future - hist_baseline\n",
    "    \n",
    "    if rcp85_data is not None:\n",
    "        rcp85_future = float(rcp85_mean.isel(time=-1))\n",
    "        changes['RCP8.5'] = rcp85_future - hist_baseline\n",
    "    \n",
    "    if changes:\n",
    "        change_scenarios = list(changes.keys())\n",
    "        change_values = list(changes.values())\n",
    "        colors = ['orange', 'red'][:len(change_scenarios)]\n",
    "        \n",
    "        bars = ax4.bar(change_scenarios, change_values, color=colors, alpha=0.7)\n",
    "        ax4.set_title('Total Change from Historical')\n",
    "        ax4.set_ylabel(f'Change ({unit_label})')\n",
    "        ax4.grid(True, alpha=0.3)\n",
    "        \n",
    "        for bar, change in zip(bars, change_values):\n",
    "            height = bar.get_height()\n",
    "            ax4.text(bar.get_x() + bar.get_width()/2., height,\n",
    "                    f'{change:.2f}', ha='center', va='bottom' if change > 0 else 'top')\n",
    "    \n",
    "    plt.tight_layout()\n",
    "    plt.show()\n",
    "    \n",
    "    # Print summary statistics\n",
    "    print(\"\\n📊 TREND SUMMARY:\")\n",
    "    for scenario, (slope, r2, p_val) in trends.items():\n",
    "        significance = \"***\" if p_val < 0.001 else \"**\" if p_val < 0.01 else \"*\" if p_val < 0.05 else \"\"\n",
    "        print(f\"   {scenario}: {slope:.4f}/decade (R² = {r2:.3f}) {significance}\")\n",
    "    \n",
    "else:\n",
    "    print(f\"❌ Could not load data for {VARIABLE}\")\n",
    "    print(\"Make sure your file paths are correct and files are available.\")"
   ]
  },
  {
   "cell_type": "markdown",
   "metadata": {},
   "source": [
    "## 4. Seasonal Distribution Shifts\n",
    "\n",
    "How are the seasons changing? Let's examine shifts in seasonal patterns."
   ]
  },
  {
   "cell_type": "code",
   "metadata": {},
   "outputs": [],
   "source": "# Seasonal distribution analysis\nprint(\"🌿 Analyzing seasonal distribution shifts...\")\n\ndef load_all_seasons(file_df, variable, scenario, model):\n    \"\"\"Load all seasonal data for a given configuration.\"\"\"\n    seasons = ['DJF', 'MAM', 'JJA', 'SON']\n    seasonal_data = {}\n    \n    for season in seasons:\n        data = load_variable_timeseries(file_df, variable, scenario, model, season)\n        if data is not None:\n            seasonal_data[season] = extract_region_mean(data)\n    \n    return seasonal_data\n\n# Load seasonal data for comparison\nhist_seasons = load_all_seasons(file_inventory, VARIABLE, 'historical', MODEL)\nrcp85_seasons = load_all_seasons(file_inventory, VARIABLE, 'rcp85', MODEL)\n\nif hist_seasons and rcp85_seasons:\n    \n    fig, axes = plt.subplots(2, 2, figsize=(15, 10))\n    fig.suptitle(f'Seasonal Distribution Shifts - {VARIABLE.upper()}', fontsize=16, fontweight='bold')\n    \n    seasons = ['DJF', 'MAM', 'JJA', 'SON']\n    season_names = ['Winter', 'Spring', 'Summer', 'Fall']\n    colors = ['blue', 'green', 'red', 'orange']\n    \n    # Get unit label\n    unit_label = get_temp_unit_label(VARIABLE)\n    \n    # 1. Seasonal cycle comparison\n    ax1 = axes[0, 0]\n    \n    # Calculate mean values for each season\n    hist_means = [hist_seasons[s].mean().values for s in seasons if s in hist_seasons]\n    rcp85_means = [rcp85_seasons[s].mean().values for s in seasons if s in rcp85_seasons]\n    \n    x = np.arange(len(seasons))\n    width = 0.35\n    \n    ax1.bar(x - width/2, hist_means, width, label='Historical', alpha=0.7, color='gray')\n    ax1.bar(x + width/2, rcp85_means, width, label='RCP8.5', alpha=0.7, color='red')\n    \n    ax1.set_title('Mean Seasonal Values')\n    ax1.set_xlabel('Season')\n    ax1.set_ylabel(f'{VARIABLE} ({unit_label})')\n    ax1.set_xticks(x)\n    ax1.set_xticklabels(season_names)\n    ax1.legend()\n    ax1.grid(True, alpha=0.3)\n    \n    # 2. Seasonal change\n    ax2 = axes[0, 1]\n    \n    seasonal_changes = [rcp85_means[i] - hist_means[i] for i in range(len(seasons))]\n    \n    bars = ax2.bar(season_names, seasonal_changes, color=colors, alpha=0.7)\n    ax2.set_title('Seasonal Change (RCP8.5 - Historical)')\n    ax2.set_ylabel(f'Change ({unit_label})')\n    ax2.grid(True, alpha=0.3)\n    ax2.axhline(y=0, color='black', linestyle='-', alpha=0.3)\n    \n    # Add values on bars\n    for bar, change in zip(bars, seasonal_changes):\n        height = bar.get_height()\n        ax2.text(bar.get_x() + bar.get_width()/2., height,\n                f'{change:.2f}', ha='center', \n                va='bottom' if change > 0 else 'top')\n    \n    # 3. Seasonal time series evolution\n    ax3 = axes[1, 0]\n    \n    for i, (season, color) in enumerate(zip(seasons, colors)):\n        if season in rcp85_seasons:\n            ts = rcp85_seasons[season]\n            ax3.plot(ts.time, ts, 'o-', color=color, label=f'{season_names[i]}', linewidth=2)\n    \n    ax3.set_title('Seasonal Evolution (RCP8.5)')\n    ax3.set_xlabel('Year')\n    ax3.set_ylabel(f'{VARIABLE} ({unit_label})')\n    ax3.legend()\n    ax3.grid(True, alpha=0.3)\n    \n    # 4. Seasonal variability change\n    ax4 = axes[1, 1]\n    \n    # Calculate coefficient of variation for each period\n    hist_cv = [hist_seasons[s].std().values / hist_seasons[s].mean().values for s in seasons if s in hist_seasons]\n    rcp85_cv = [rcp85_seasons[s].std().values / rcp85_seasons[s].mean().values for s in seasons if s in rcp85_seasons]\n    \n    x = np.arange(len(seasons))\n    ax4.bar(x - width/2, hist_cv, width, label='Historical', alpha=0.7, color='gray')\n    ax4.bar(x + width/2, rcp85_cv, width, label='RCP8.5', alpha=0.7, color='red')\n    \n    ax4.set_title('Seasonal Variability (CV)')\n    ax4.set_xlabel('Season')\n    ax4.set_ylabel('Coefficient of Variation')\n    ax4.set_xticks(x)\n    ax4.set_xticklabels(season_names)\n    ax4.legend()\n    ax4.grid(True, alpha=0.3)\n    \n    plt.tight_layout()\n    plt.show()\n    \n    # Print seasonal summary\n    print(\"\\n🌿 SEASONAL SUMMARY:\")\n    for i, season in enumerate(seasons):\n        if season in hist_seasons and season in rcp85_seasons:\n            change = seasonal_changes[i]\n            pct_change = (change / hist_means[i]) * 100\n            print(f\"   {season_names[i]:6s}: {change:+.2f} ({pct_change:+.1f}%)\")\n\nelse:\n    print(\"❌ Could not load seasonal data for comparison\")\n    print(\"Make sure you have both historical and RCP8.5 data with seasonal files\")"
  },
  {
   "cell_type": "markdown",
   "metadata": {},
   "source": [
    "## 5. Spatial Change Maps - \"Areas with largest changes\"\n",
    "\n",
    "Let's create heatmaps showing where changes are most pronounced."
   ]
  },
  {
   "cell_type": "code",
   "execution_count": null,
   "metadata": {},
   "outputs": [
    {
     "name": "stdout",
     "output_type": "stream",
     "text": [
      "🗺️  Creating spatial change maps...\n",
      "📊 Loading 19 files for pr historical\n",
      "📊 Loading 32 files for pr rcp45\n",
      "📊 Loading 19 files for pr rcp85\n"
     ]
    },
    {
     "data": {
      "image/png": "[encoded data removed]",
      "text/plain": [
       "<Figure size 1800x1200 with 11 Axes>"
      ]
     },
     "metadata": {},
     "output_type": "display_data"
    },
    {
     "name": "stdout",
     "output_type": "stream",
     "text": [
      "\n",
      "🗺️  SPATIAL CHANGE SUMMARY:\n",
      "   Mean change (RCP8.5): 0.08\n",
      "   Max increase: 0.21\n",
      "   Max decrease: 0.02\n",
      "   Spatial std: 0.04\n",
      "   Hotspot threshold: 0.10\n",
      "   Mean change (RCP4.5): 0.21\n"
     ]
    }
   ],
   "source": [
    "# Spatial change analysis\n",
    "print(\"🗺️  Creating spatial change maps...\")\n",
    "\n",
    "def create_change_map(hist_data, future_data, title_suffix=\"\"):\n",
    "    \"\"\"Create a spatial change map.\"\"\"\n",
    "    \n",
    "    # Calculate means\n",
    "    hist_mean = hist_data.mean(dim='time')\n",
    "    future_mean = future_data.mean(dim='time')\n",
    "    \n",
    "    # Calculate change\n",
    "    change = future_mean - hist_mean\n",
    "    \n",
    "    # Calculate percent change\n",
    "    pct_change = (change / hist_mean) * 100\n",
    "    \n",
    "    return change, pct_change, hist_mean, future_mean\n",
    "\n",
    "# Load spatial data (using summer season as example)\n",
    "hist_spatial = load_variable_timeseries(file_inventory, VARIABLE, 'historical', MODEL, 'JJA')\n",
    "rcp45_spatial = load_variable_timeseries(file_inventory, VARIABLE, 'rcp45', MODEL, 'JJA')\n",
    "rcp85_spatial = load_variable_timeseries(file_inventory, VARIABLE, 'rcp85', MODEL, 'JJA')\n",
    "\n",
    "if hist_spatial is not None and rcp85_spatial is not None:\n",
    "    \n",
    "    # Calculate changes\n",
    "    rcp85_change, rcp85_pct, hist_mean, rcp85_mean = create_change_map(hist_spatial, rcp85_spatial)\n",
    "    \n",
    "    if rcp45_spatial is not None:\n",
    "        rcp45_change, rcp45_pct, _, rcp45_mean = create_change_map(hist_spatial, rcp45_spatial)\n",
    "    \n",
    "    # Create comprehensive spatial plot\n",
    "    if rcp45_spatial is not None:\n",
    "        fig, axes = plt.subplots(2, 3, figsize=(18, 12))\n",
    "    else:\n",
    "        fig, axes = plt.subplots(2, 2, figsize=(15, 10))\n",
    "    \n",
    "    fig.suptitle(f'Spatial Climate Change - {VARIABLE.upper()} Summer (JJA)', fontsize=16, fontweight='bold')\n",
    "    \n",
    "    # 1. Historical baseline\n",
    "    ax1 = axes[0, 0] if rcp45_spatial is not None else axes[0, 0]\n",
    "    im1 = hist_mean.plot(ax=ax1, cmap='RdYlBu_r', add_colorbar=False)\n",
    "    ax1.set_title('Historical Baseline')\n",
    "    ax1.set_xlabel('Longitude')\n",
    "    ax1.set_ylabel('Latitude')\n",
    "    plt.colorbar(im1, ax=ax1, shrink=0.8)\n",
    "    \n",
    "    # 2. RCP4.5 absolute change (if available)\n",
    "    if rcp45_spatial is not None:\n",
    "        ax2 = axes[0, 1]\n",
    "        \n",
    "        # Use diverging colormap centered on zero\n",
    "        vmax = max(abs(rcp45_change.min().values), abs(rcp45_change.max().values))\n",
    "        im2 = rcp45_change.plot(ax=ax2, cmap='RdBu_r', \n",
    "                               vmin=-vmax, vmax=vmax, add_colorbar=False)\n",
    "        ax2.set_title('RCP4.5 Change (Absolute)')\n",
    "        ax2.set_xlabel('Longitude')\n",
    "        ax2.set_ylabel('Latitude')\n",
    "        plt.colorbar(im2, ax=ax2, shrink=0.8)\n",
    "        \n",
    "        # 3. RCP8.5 absolute change\n",
    "        ax3 = axes[0, 2]\n",
    "    else:\n",
    "        ax3 = axes[0, 1]\n",
    "    \n",
    "    vmax = max(abs(rcp85_change.min().values), abs(rcp85_change.max().values))\n",
    "    im3 = rcp85_change.plot(ax=ax3, cmap='RdBu_r', \n",
    "                           vmin=-vmax, vmax=vmax, add_colorbar=False)\n",
    "    ax3.set_title('RCP8.5 Change (Absolute)')\n",
    "    ax3.set_xlabel('Longitude')\n",
    "    ax3.set_ylabel('Latitude')\n",
    "    plt.colorbar(im3, ax=ax3, shrink=0.8)\n",
    "    \n",
    "    # 4. RCP8.5 percent change\n",
    "    if rcp45_spatial is not None:\n",
    "        ax4 = axes[1, 0]\n",
    "        \n",
    "        # Percent change for RCP4.5\n",
    "        vmax_pct = max(abs(rcp45_pct.min().values), abs(rcp45_pct.max().values))\n",
    "        im4 = rcp45_pct.plot(ax=ax4, cmap='RdBu_r', \n",
    "                            vmin=-vmax_pct, vmax=vmax_pct, add_colorbar=False)\n",
    "        ax4.set_title('RCP4.5 Change (%)')\n",
    "        ax4.set_xlabel('Longitude')\n",
    "        ax4.set_ylabel('Latitude')\n",
    "        plt.colorbar(im4, ax=ax4, shrink=0.8)\n",
    "        \n",
    "        ax5 = axes[1, 1]\n",
    "    else:\n",
    "        ax5 = axes[1, 0]\n",
    "    \n",
    "    vmax_pct = max(abs(rcp85_pct.min().values), abs(rcp85_pct.max().values))\n",
    "    im5 = rcp85_pct.plot(ax=ax5, cmap='RdBu_r', \n",
    "                        vmin=-vmax_pct, vmax=vmax_pct, add_colorbar=False)\n",
    "    ax5.set_title('RCP8.5 Change (%)')\n",
    "    ax5.set_xlabel('Longitude')\n",
    "    ax5.set_ylabel('Latitude')\n",
    "    plt.colorbar(im5, ax=ax5, shrink=0.8)\n",
    "    \n",
    "    # 5. Hotspots analysis\n",
    "    if rcp45_spatial is not None:\n",
    "        ax6 = axes[1, 2]\n",
    "    else:\n",
    "        ax6 = axes[1, 1]\n",
    "    \n",
    "    # Identify extreme change areas (top 10% of absolute change)\n",
    "    abs_change = np.abs(rcp85_change)\n",
    "    threshold = abs_change.quantile(0.75)\n",
    "    hotspots = xr.where(abs_change >= threshold, 1, 0)\n",
    "    \n",
    "    im6 = hotspots.plot(ax=ax6, cmap='Reds', add_colorbar=False)\n",
    "    ax6.set_title('Change Hotspots (Top 10%)')\n",
    "    ax6.set_xlabel('Longitude')\n",
    "    ax6.set_ylabel('Latitude')\n",
    "    \n",
    "    plt.tight_layout()\n",
    "    plt.show()\n",
    "    \n",
    "    # Print spatial statistics\n",
    "    print(\"\\n🗺️  SPATIAL CHANGE SUMMARY:\")\n",
    "    print(f\"   Mean change (RCP8.5): {float(rcp85_change.mean()):.2f}\")\n",
    "    print(f\"   Max increase: {float(rcp85_change.max()):.2f}\")\n",
    "    print(f\"   Max decrease: {float(rcp85_change.min()):.2f}\")\n",
    "    print(f\"   Spatial std: {float(rcp85_change.std()):.2f}\")\n",
    "    print(f\"   Hotspot threshold: {float(threshold):.2f}\")\n",
    "    \n",
    "    if rcp45_spatial is not None:\n",
    "        print(f\"   Mean change (RCP4.5): {float(rcp45_change.mean()):.2f}\")\n",
    "\n",
    "else:\n",
    "    print(\"❌ Could not load spatial data for mapping\")\n",
    "    print(\"Make sure you have both historical and future scenario data\")"
   ]
  },
  {
   "cell_type": "markdown",
   "metadata": {},
   "source": [
    "## 6. Advanced Visualizations\n",
    "\n",
    "Additional analysis techniques for deeper insights."
   ]
  },
  {
   "cell_type": "code",
   "execution_count": null,
   "metadata": {},
   "outputs": [
    {
     "name": "stdout",
     "output_type": "stream",
     "text": [
      "🔬 Performing advanced climate analysis...\n"
     ]
    },
    {
     "data": {
      "image/png": "[encoded data removed]",
      "text/plain": [
       "<Figure size 1500x1000 with 8 Axes>"
      ]
     },
     "metadata": {},
     "output_type": "display_data"
    },
    {
     "name": "stdout",
     "output_type": "stream",
     "text": [
      "\n",
      "🔬 ADVANCED ANALYSIS SUMMARY:\n",
      "   Mean climate velocity: 0.0016/year\n",
      "   Max climate velocity: 0.0042/year\n",
      "   Historical extreme threshold: 2.32\n",
      "   Mean extreme change: 0.0 events\n",
      "   Max extreme increase: 0.0 events\n"
     ]
    }
   ],
   "source": [
    "# Advanced analysis: Climate velocity and extreme events\n",
    "print(\"🔬 Performing advanced climate analysis...\")\n",
    "\n",
    "def calculate_climate_velocity(historical, future, time_diff_years=50):\n",
    "    \"\"\"Calculate rate of climate change (velocity).\"\"\"\n",
    "    \n",
    "    hist_mean = historical.mean(dim='time')\n",
    "    future_mean = future.mean(dim='time')\n",
    "    \n",
    "    # Rate of change per year\n",
    "    velocity = (future_mean - hist_mean) / time_diff_years\n",
    "    \n",
    "    return velocity\n",
    "\n",
    "def analyze_extremes(data, threshold_percentile=90):\n",
    "    \"\"\"Analyze extreme values.\"\"\"\n",
    "    \n",
    "    # Calculate threshold\n",
    "    threshold = data.quantile(threshold_percentile/100, dim='time')\n",
    "    \n",
    "    # Count extreme events\n",
    "    extreme_count = (data > threshold).sum(dim='time')\n",
    "    \n",
    "    # Extreme intensity\n",
    "    extreme_intensity = data.where(data > threshold).mean(dim='time')\n",
    "    \n",
    "    return extreme_count, extreme_intensity, threshold\n",
    "\n",
    "if hist_spatial is not None and rcp85_spatial is not None:\n",
    "    \n",
    "    fig, axes = plt.subplots(2, 2, figsize=(15, 10))\n",
    "    fig.suptitle(f'Advanced Climate Analysis - {VARIABLE.upper()}', fontsize=16, fontweight='bold')\n",
    "    \n",
    "    # 1. Climate velocity\n",
    "    ax1 = axes[0, 0]\n",
    "    velocity = calculate_climate_velocity(hist_spatial, rcp85_spatial)\n",
    "    \n",
    "    im1 = velocity.plot(ax=ax1, cmap='RdYlBu_r', add_colorbar=False)\n",
    "    ax1.set_title('Climate Velocity\\n(Change per year)')\n",
    "    ax1.set_xlabel('Longitude')\n",
    "    ax1.set_ylabel('Latitude')\n",
    "    plt.colorbar(im1, ax=ax1, shrink=0.8)\n",
    "    \n",
    "    # 2. Historical extremes\n",
    "    ax2 = axes[0, 1]\n",
    "    hist_extreme_count, hist_extreme_intensity, hist_threshold = analyze_extremes(hist_spatial)\n",
    "    \n",
    "    im2 = hist_extreme_count.plot(ax=ax2, cmap='Reds', add_colorbar=False)\n",
    "    ax2.set_title('Historical Extreme Events\\n(90th percentile exceedances)')\n",
    "    ax2.set_xlabel('Longitude')\n",
    "    ax2.set_ylabel('Latitude')\n",
    "    plt.colorbar(im2, ax=ax2, shrink=0.8)\n",
    "    \n",
    "    # 3. Future extremes\n",
    "    ax3 = axes[1, 0]\n",
    "    rcp85_extreme_count, rcp85_extreme_intensity, _ = analyze_extremes(rcp85_spatial)\n",
    "    \n",
    "    im3 = rcp85_extreme_count.plot(ax=ax3, cmap='Reds', add_colorbar=False)\n",
    "    ax3.set_title('Future Extreme Events (RCP8.5)\\n(90th percentile exceedances)')\n",
    "    ax3.set_xlabel('Longitude')\n",
    "    ax3.set_ylabel('Latitude')\n",
    "    plt.colorbar(im3, ax=ax3, shrink=0.8)\n",
    "    \n",
    "    # 4. Change in extremes\n",
    "    ax4 = axes[1, 1]\n",
    "    extreme_change = rcp85_extreme_count - hist_extreme_count\n",
    "    \n",
    "    vmax = max(abs(extreme_change.min().values), abs(extreme_change.max().values))\n",
    "    im4 = extreme_change.plot(ax=ax4, cmap='RdBu_r', \n",
    "                             vmin=-vmax, vmax=vmax, add_colorbar=False)\n",
    "    ax4.set_title('Change in Extreme Events\\n(Future - Historical)')\n",
    "    ax4.set_xlabel('Longitude')\n",
    "    ax4.set_ylabel('Latitude')\n",
    "    plt.colorbar(im4, ax=ax4, shrink=0.8)\n",
    "    \n",
    "    plt.tight_layout()\n",
    "    plt.show()\n",
    "    \n",
    "    # Print advanced statistics\n",
    "    print(\"\\n🔬 ADVANCED ANALYSIS SUMMARY:\")\n",
    "    print(f\"   Mean climate velocity: {float(velocity.mean()):.4f}/year\")\n",
    "    print(f\"   Max climate velocity: {float(velocity.max()):.4f}/year\")\n",
    "    print(f\"   Historical extreme threshold: {float(hist_threshold.mean()):.2f}\")\n",
    "    print(f\"   Mean extreme change: {float(extreme_change.mean()):.1f} events\")\n",
    "    print(f\"   Max extreme increase: {float(extreme_change.max()):.1f} events\")\n",
    "\n",
    "else:\n",
    "    print(\"❌ Spatial data not available for advanced analysis\")"
   ]
  },
  {
   "cell_type": "markdown",
   "metadata": {},
   "source": [
    "## 7. Interactive Visualizations (Optional)\n",
    "\n",
    "If you have Plotly installed, create interactive plots for deeper exploration."
   ]
  },
  {
   "cell_type": "code",
   "execution_count": null,
   "metadata": {},
   "outputs": [
    {
     "name": "stdout",
     "output_type": "stream",
     "text": [
      "📊 Creating interactive visualizations...\n"
     ]
    },
    {
     "data": {
      "application/vnd.plotly.v1+json": {
       "config": {
        "plotlyServerURL": "https://plot.ly"
       },
       "data": [
        {
         "line": {
          "color": "black",
          "width": 3
         },
         "mode": "lines+markers",
         "name": "Historical",
         "type": "scatter",
         "x": {
          "bdata": "AAAAAAB8nkAAAAAAAHyeQAAAAAAAfJ5AAAAAAAB8nkAAAAAAAIieQAAAAAAAiJ5AAAAAAACInkAAAAAAAIieQAAAAAAAlJ5AAAAAAACUnkAAAAAAAJSeQAAAAAAAlJ5AAAAAAACgnkAAAAAAAKCeQAAAAAAAoJ5AAAAAAACgnkAAAAAAAKyeQAAAAAAArJ5AAAAAAACsnkAAAAAAAKyeQAAAAAAAuJ5AAAAAAAC4nkAAAAAAALieQAAAAAAAuJ5AAAAAAADEnkAAAAAAAMSeQAAAAAAAxJ5AAAAAAADEnkAAAAAAANCeQAAAAAAA0J5AAAAAAADQnkAAAAAAANCeQAAAAAAA3J5AAAAAAADcnkAAAAAAANyeQAAAAAAA3J5AAAAAAADonkAAAAAAAOieQAAAAAAA6J5AAAAAAADonkAAAAAAAPSeQAAAAAAA9J5AAAAAAAD0nkAAAAAAAPSeQAAAAAAAAJ9AAAAAAAAAn0AAAAAAAACfQAAAAAAAAJ9AAAAAAAAMn0AAAAAAAAyfQAAAAAAADJ9AAAAAAAAMn0AAAAAAABifQAAAAAAAGJ9AAAAAAAAYn0AAAAAAABifQAAAAAAAJJ9AAAAAAAAkn0AAAAAAACSfQAAAAAAAJJ9AAAAAAAAwn0AAAAAAADCfQAAAAAAAMJ9AAAAAAAAwn0AAAAAAADyfQAAAAAAAPJ9AAAAAAAA8n0AAAAAAADyfQAAAAAAASJ9AAAAAAABIn0AAAAAAAEifQAAAAAAASJ9AAAAAAABSn0AAAAAAAFKfQAAAAAAAUp9AAAAAAABSn0A=",
          "dtype": "f8"
         },
         "y": {
          "bdata": "ycrmPxp5DUBwKIk/ciMRPyXrxD9uGn0/dt4mP/go2j+vlIg/UynZP0Fq7D/hHQM/dH0aQAF56D8JfME/g94iP2vx2z89h9A/Nw5ZP5Q8IT91lLQ/6MAIQNEa2D+lv9o+JsHTP8AnWT/NdSA/j+IRQLCXtD8zHwVAEbATP5UKwj/z2TY/cVP6P9/HlT+P3gI/3xCXP0tK6D/eLQY/zpnlP7LRDD+GS1s/fcHYPzk0tT/3eShANKkDQAo1vD/5TfA+HmxWP4kjCkAk5iVA+A8jPw49vD69j9w/bM3jP6cLlz9MzOY/Gs/8P+Z/oD+1MeI+O4biP96iFT/9myhAA7haP2uwlT+XEls/MYcaP0/w6j98APY/nFYMPxo/G0BOA4E/hiq4P/Wo2z8xbXQ/M3OFPg==",
          "dtype": "f4"
         }
        },
        {
         "line": {
          "color": "orange",
          "width": 3
         },
         "mode": "lines+markers",
         "name": "RCP4.5",
         "type": "scatter",
         "x": {
          "bdata": "AAAAAABcn0AAAAAAAFyfQAAAAAAAXJ9AAAAAAABcn0AAAAAAAGifQAAAAAAAaJ9AAAAAAABon0AAAAAAAGifQAAAAAAAdJ9AAAAAAAB0n0AAAAAAAHSfQAAAAAAAdJ9AAAAAAACAn0AAAAAAAICfQAAAAAAAgJ9AAAAAAACAn0AAAAAAAIyfQAAAAAAAjJ9AAAAAAACMn0AAAAAAAIyfQAAAAAAAmJ9AAAAAAACYn0AAAAAAAJifQAAAAAAAmJ9AAAAAAACkn0AAAAAAAKSfQAAAAAAApJ9AAAAAAACkn0AAAAAAALCfQAAAAAAAsJ9AAAAAAACwn0AAAAAAALCfQAAAAAAAvJ9AAAAAAAC8n0AAAAAAALyfQAAAAAAAvJ9AAAAAAADIn0AAAAAAAMifQAAAAAAAyJ9AAAAAAADIn0AAAAAAANSfQAAAAAAA1J9AAAAAAADUn0AAAAAAANSfQAAAAAAA4J9AAAAAAADgn0AAAAAAAOCfQAAAAAAA4J9AAAAAAADsn0AAAAAAAOyfQAAAAAAA7J9AAAAAAADsn0AAAAAAAPifQAAAAAAA+J9AAAAAAAD4n0AAAAAAAPifQAAAAAAAAqBAAAAAAAACoEAAAAAAAAKgQAAAAAAAAqBAAAAAAAAIoEAAAAAAAAigQAAAAAAACKBAAAAAAAAIoEAAAAAAAA6gQAAAAAAADqBAAAAAAAAOoEAAAAAAAA6gQAAAAAAAFKBAAAAAAAAUoEAAAAAAABSgQAAAAAAAFKBAAAAAAAAaoEAAAAAAABqgQAAAAAAAGqBAAAAAAAAaoEAAAAAAACCgQAAAAAAAIKBAAAAAAAAgoEAAAAAAACCgQAAAAAAAJqBAAAAAAAAmoEAAAAAAACagQAAAAAAAJqBAAAAAAAAsoEAAAAAAACygQAAAAAAALKBAAAAAAAAsoEAAAAAAADKgQAAAAAAAMqBAAAAAAAAyoEAAAAAAADKgQAAAAAAAOKBAAAAAAAA4oEAAAAAAADigQAAAAAAAOKBAAAAAAAA+oEAAAAAAAD6gQAAAAAAAPqBAAAAAAAA+oEAAAAAAAESgQAAAAAAARKBAAAAAAABEoEAAAAAAAESgQAAAAAAASqBAAAAAAABKoEAAAAAAAEqgQAAAAAAASqBAAAAAAABQoEAAAAAAAFCgQAAAAAAAUKBAAAAAAABQoEAAAAAAAFagQAAAAAAAVqBAAAAAAABWoEAAAAAAAFagQAAAAAAAXKBAAAAAAABcoEAAAAAAAFygQAAAAAAAXKBAAAAAAABioEAAAAAAAGKgQAAAAAAAYqBAAAAAAABioEAAAAAAAGagQAAAAAAAZqBAAAAAAABmoEAAAAAAAGagQA==",
          "dtype": "f8"
         },
         "y": {
          "bdata": "JwzdP2YfUj+p850/uF4dQMzk7j8kqRBAQ++jP4Li0j7vIrY+g1sHQK2fjz8m1ShACrUBP4rH4j9DwIg/tRPcP/VZJUATajA/G5EBQD/cgj926uQ/t+mkP1oAAD8L8Ic/JjMTP02RGkAcEpA/Jr/uP9RPAkBgZbg/YK0HPx1CwD9ImYU/SXYvPyEwDUCe7CBA25UhPwMCAEBNWGE/XbcpQCE+mj8M+vI/wOAPQCHnED94f3w/+sMWQCgZBz+7xuw/2dTpPzai+D+ZASg/huMkP3SGPD+3+/s+O6EVQDz7KUCdgdY/SKOCPy+h5z9vtuc+2ZaUPxhjF0CJvCQ/FEwDQEP0Ej+nfZk/PaPnPysr7D/izgA//igYQHXmSz/Bm/o/+RmQPz0r+j/MojJAPagRP/x97z84MfQ+rbWSP5TxuT+L9jBA/2iIPyQiGD9s+yBAnw9ePyFDvD6eBMk/RMb8P5nd4T/4PSs/0PU0QCf5qz9dvlA/UQMeP33xyT9h46E/DPi3P4jnIz962u8/WlYkQPAS9D5GLgVATmERQATSVD87dAlAyzg4P0OuBECC6Uk/mtQYQI+DRD+KriA/L+mvPxrxHj+GxoE/m1cXQKbgBUDB1NY/PJEpQKzt0D41EsI/UiXnP79ZFz9U6/4/PYQ2P8e1ET92p7Q+dQ0YQNJ8xj8=",
          "dtype": "f4"
         }
        },
        {
         "line": {
          "color": "red",
          "width": 3
         },
         "mode": "lines+markers",
         "name": "RCP8.5",
         "type": "scatter",
         "x": {
          "bdata": "AAAAAABcn0AAAAAAAFyfQAAAAAAAXJ9AAAAAAABcn0AAAAAAAGifQAAAAAAAaJ9AAAAAAABon0AAAAAAAGifQAAAAAAAdJ9AAAAAAAB0n0AAAAAAAHSfQAAAAAAAdJ9AAAAAAACAn0AAAAAAAICfQAAAAAAAgJ9AAAAAAACAn0AAAAAAAIyfQAAAAAAAjJ9AAAAAAACMn0AAAAAAAIyfQAAAAAAAmJ9AAAAAAACYn0AAAAAAAJifQAAAAAAAmJ9AAAAAAACkn0AAAAAAAKSfQAAAAAAApJ9AAAAAAACkn0AAAAAAALCfQAAAAAAAsJ9AAAAAAACwn0AAAAAAALCfQAAAAAAAvJ9AAAAAAAC8n0AAAAAAALyfQAAAAAAAvJ9AAAAAAADIn0AAAAAAAMifQAAAAAAAyJ9AAAAAAADIn0AAAAAAANSfQAAAAAAA1J9AAAAAAADUn0AAAAAAANSfQAAAAAAA4J9AAAAAAADgn0AAAAAAAOCfQAAAAAAA4J9AAAAAAADsn0AAAAAAAOyfQAAAAAAA7J9AAAAAAADsn0AAAAAAAPifQAAAAAAA+J9AAAAAAAD4n0AAAAAAAPifQAAAAAAAAqBAAAAAAAACoEAAAAAAAAKgQAAAAAAAAqBAAAAAAAAIoEAAAAAAAAigQAAAAAAACKBAAAAAAAAIoEAAAAAAAA6gQAAAAAAADqBAAAAAAAAOoEAAAAAAAA6gQAAAAAAAFKBAAAAAAAAUoEAAAAAAABSgQAAAAAAAFKBAAAAAAAAaoEAAAAAAABqgQAAAAAAAGqBA",
          "dtype": "f8"
         },
         "y": {
          "bdata": "uQGdPw8wAEDnsQU/YH1sP6fnzj/ud8c+44GNPwt2GEDxBOM/NFUCP0kXGUDU9Y8/icQYP4flJkDFSRFA07ZGP73aDD8bB6o/ey6QP2sq1D+UByo/ZxkSP2599D/RgiVApOcBQD0dEED6IFY/7L6qP+OqgT8O7wE/G5ETQAQ1tj+Pa1s/p0zsPn6f9z/sMZk/J1sBQPlz4D/hg8I/KAYYPwNTIEDfxWg/uuDoP+RUDj/tzV8/KUbaP11EFkBIrUk/zeRcP9phFEBxrQlA+BgDPzqFNj/4t7U/DBLfPw/Qwz8kOfU/ojaZP/r6J0Dbzgc/rR5KQFBXFj8gR2c/bywNQNKBrz8X4dA/XWPzPh+jkD+dagI/2IxWPyJUCkBrvQ5AeJQxQEEmUD9sLw5A",
          "dtype": "f4"
         }
        }
       ],
       "layout": {
        "hovermode": "x unified",
        "template": {
         "data": {
          "bar": [
           {
            "error_x": {
             "color": "#2a3f5f"
            },
            "error_y": {
             "color": "#2a3f5f"
            },
            "marker": {
             "line": {
              "color": "white",
              "width": 0.5
             },
             "pattern": {
              "fillmode": "overlay",
              "size": 10,
              "solidity": 0.2
             }
            },
            "type": "bar"
           }
          ],
          "barpolar": [
           {
            "marker": {
             "line": {
              "color": "white",
              "width": 0.5
             },
             "pattern": {
              "fillmode": "overlay",
              "size": 10,
              "solidity": 0.2
             }
            },
            "type": "barpolar"
           }
          ],
          "carpet": [
           {
            "aaxis": {
             "endlinecolor": "#2a3f5f",
             "gridcolor": "#C8D4E3",
             "linecolor": "#C8D4E3",
             "minorgridcolor": "#C8D4E3",
             "startlinecolor": "#2a3f5f"
            },
            "baxis": {
             "endlinecolor": "#2a3f5f",
             "gridcolor": "#C8D4E3",
             "linecolor": "#C8D4E3",
             "minorgridcolor": "#C8D4E3",
             "startlinecolor": "#2a3f5f"
            },
            "type": "carpet"
           }
          ],
          "choropleth": [
           {
            "colorbar": {
             "outlinewidth": 0,
             "ticks": ""
            },
            "type": "choropleth"
           }
          ],
          "contour": [
           {
            "colorbar": {
             "outlinewidth": 0,
             "ticks": ""
            },
            "colorscale": [
             [
              0,
              "#0d0887"
             ],
             [
              0.1111111111111111,
              "#46039f"
             ],
             [
              0.2222222222222222,
              "#7201a8"
             ],
             [
              0.3333333333333333,
              "#9c179e"
             ],
             [
              0.4444444444444444,
              "#bd3786"
             ],
             [
              0.5555555555555556,
              "#d8576b"
             ],
             [
              0.6666666666666666,
              "#ed7953"
             ],
             [
              0.7777777777777778,
              "#fb9f3a"
             ],
             [
              0.8888888888888888,
              "#fdca26"
             ],
             [
              1,
              "#f0f921"
             ]
            ],
            "type": "contour"
           }
          ],
          "contourcarpet": [
           {
            "colorbar": {
             "outlinewidth": 0,
             "ticks": ""
            },
            "type": "contourcarpet"
           }
          ],
          "heatmap": [
           {
            "colorbar": {
             "outlinewidth": 0,
             "ticks": ""
            },
            "colorscale": [
             [
              0,
              "#0d0887"
             ],
             [
              0.1111111111111111,
              "#46039f"
             ],
             [
              0.2222222222222222,
              "#7201a8"
             ],
             [
              0.3333333333333333,
              "#9c179e"
             ],
             [
              0.4444444444444444,
              "#bd3786"
             ],
             [
              0.5555555555555556,
              "#d8576b"
             ],
             [
              0.6666666666666666,
              "#ed7953"
             ],
             [
              0.7777777777777778,
              "#fb9f3a"
             ],
             [
              0.8888888888888888,
              "#fdca26"
             ],
             [
              1,
              "#f0f921"
             ]
            ],
            "type": "heatmap"
           }
          ],
          "histogram": [
           {
            "marker": {
             "pattern": {
              "fillmode": "overlay",
              "size": 10,
              "solidity": 0.2
             }
            },
            "type": "histogram"
           }
          ],
          "histogram2d": [
           {
            "colorbar": {
             "outlinewidth": 0,
             "ticks": ""
            },
            "colorscale": [
             [
              0,
              "#0d0887"
             ],
             [
              0.1111111111111111,
              "#46039f"
             ],
             [
              0.2222222222222222,
              "#7201a8"
             ],
             [
              0.3333333333333333,
              "#9c179e"
             ],
             [
              0.4444444444444444,
              "#bd3786"
             ],
             [
              0.5555555555555556,
              "#d8576b"
             ],
             [
              0.6666666666666666,
              "#ed7953"
             ],
             [
              0.7777777777777778,
              "#fb9f3a"
             ],
             [
              0.8888888888888888,
              "#fdca26"
             ],
             [
              1,
              "#f0f921"
             ]
            ],
            "type": "histogram2d"
           }
          ],
          "histogram2dcontour": [
           {
            "colorbar": {
             "outlinewidth": 0,
             "ticks": ""
            },
            "colorscale": [
             [
              0,
              "#0d0887"
             ],
             [
              0.1111111111111111,
              "#46039f"
             ],
             [
              0.2222222222222222,
              "#7201a8"
             ],
             [
              0.3333333333333333,
              "#9c179e"
             ],
             [
              0.4444444444444444,
              "#bd3786"
             ],
             [
              0.5555555555555556,
              "#d8576b"
             ],
             [
              0.6666666666666666,
              "#ed7953"
             ],
             [
              0.7777777777777778,
              "#fb9f3a"
             ],
             [
              0.8888888888888888,
              "#fdca26"
             ],
             [
              1,
              "#f0f921"
             ]
            ],
            "type": "histogram2dcontour"
           }
          ],
          "mesh3d": [
           {
            "colorbar": {
             "outlinewidth": 0,
             "ticks": ""
            },
            "type": "mesh3d"
           }
          ],
          "parcoords": [
           {
            "line": {
             "colorbar": {
              "outlinewidth": 0,
              "ticks": ""
             }
            },
            "type": "parcoords"
           }
          ],
          "pie": [
           {
            "automargin": true,
            "type": "pie"
           }
          ],
          "scatter": [
           {
            "fillpattern": {
             "fillmode": "overlay",
             "size": 10,
             "solidity": 0.2
            },
            "type": "scatter"
           }
          ],
          "scatter3d": [
           {
            "line": {
             "colorbar": {
              "outlinewidth": 0,
              "ticks": ""
             }
            },
            "marker": {
             "colorbar": {
              "outlinewidth": 0,
              "ticks": ""
             }
            },
            "type": "scatter3d"
           }
          ],
          "scattercarpet": [
           {
            "marker": {
             "colorbar": {
              "outlinewidth": 0,
              "ticks": ""
             }
            },
            "type": "scattercarpet"
           }
          ],
          "scattergeo": [
           {
            "marker": {
             "colorbar": {
              "outlinewidth": 0,
              "ticks": ""
             }
            },
            "type": "scattergeo"
           }
          ],
          "scattergl": [
           {
            "marker": {
             "colorbar": {
              "outlinewidth": 0,
              "ticks": ""
             }
            },
            "type": "scattergl"
           }
          ],
          "scattermap": [
           {
            "marker": {
             "colorbar": {
              "outlinewidth": 0,
              "ticks": ""
             }
            },
            "type": "scattermap"
           }
          ],
          "scattermapbox": [
           {
            "marker": {
             "colorbar": {
              "outlinewidth": 0,
              "ticks": ""
             }
            },
            "type": "scattermapbox"
           }
          ],
          "scatterpolar": [
           {
            "marker": {
             "colorbar": {
              "outlinewidth": 0,
              "ticks": ""
             }
            },
            "type": "scatterpolar"
           }
          ],
          "scatterpolargl": [
           {
            "marker": {
             "colorbar": {
              "outlinewidth": 0,
              "ticks": ""
             }
            },
            "type": "scatterpolargl"
           }
          ],
          "scatterternary": [
           {
            "marker": {
             "colorbar": {
              "outlinewidth": 0,
              "ticks": ""
             }
            },
            "type": "scatterternary"
           }
          ],
          "surface": [
           {
            "colorbar": {
             "outlinewidth": 0,
             "ticks": ""
            },
            "colorscale": [
             [
              0,
              "#0d0887"
             ],
             [
              0.1111111111111111,
              "#46039f"
             ],
             [
              0.2222222222222222,
              "#7201a8"
             ],
             [
              0.3333333333333333,
              "#9c179e"
             ],
             [
              0.4444444444444444,
              "#bd3786"
             ],
             [
              0.5555555555555556,
              "#d8576b"
             ],
             [
              0.6666666666666666,
              "#ed7953"
             ],
             [
              0.7777777777777778,
              "#fb9f3a"
             ],
             [
              0.8888888888888888,
              "#fdca26"
             ],
             [
              1,
              "#f0f921"
             ]
            ],
            "type": "surface"
           }
          ],
          "table": [
           {
            "cells": {
             "fill": {
              "color": "#EBF0F8"
             },
             "line": {
              "color": "white"
             }
            },
            "header": {
             "fill": {
              "color": "#C8D4E3"
             },
             "line": {
              "color": "white"
             }
            },
            "type": "table"
           }
          ]
         },
         "layout": {
          "annotationdefaults": {
           "arrowcolor": "#2a3f5f",
           "arrowhead": 0,
           "arrowwidth": 1
          },
          "autotypenumbers": "strict",
          "coloraxis": {
           "colorbar": {
            "outlinewidth": 0,
            "ticks": ""
           }
          },
          "colorscale": {
           "diverging": [
            [
             0,
             "#8e0152"
            ],
            [
             0.1,
             "#c51b7d"
            ],
            [
             0.2,
             "#de77ae"
            ],
            [
             0.3,
             "#f1b6da"
            ],
            [
             0.4,
             "#fde0ef"
            ],
            [
             0.5,
             "#f7f7f7"
            ],
            [
             0.6,
             "#e6f5d0"
            ],
            [
             0.7,
             "#b8e186"
            ],
            [
             0.8,
             "#7fbc41"
            ],
            [
             0.9,
             "#4d9221"
            ],
            [
             1,
             "#276419"
            ]
           ],
           "sequential": [
            [
             0,
             "#0d0887"
            ],
            [
             0.1111111111111111,
             "#46039f"
            ],
            [
             0.2222222222222222,
             "#7201a8"
            ],
            [
             0.3333333333333333,
             "#9c179e"
            ],
            [
             0.4444444444444444,
             "#bd3786"
            ],
            [
             0.5555555555555556,
             "#d8576b"
            ],
            [
             0.6666666666666666,
             "#ed7953"
            ],
            [
             0.7777777777777778,
             "#fb9f3a"
            ],
            [
             0.8888888888888888,
             "#fdca26"
            ],
            [
             1,
             "#f0f921"
            ]
           ],
           "sequentialminus": [
            [
             0,
             "#0d0887"
            ],
            [
             0.1111111111111111,
             "#46039f"
            ],
            [
             0.2222222222222222,
             "#7201a8"
            ],
            [
             0.3333333333333333,
             "#9c179e"
            ],
            [
             0.4444444444444444,
             "#bd3786"
            ],
            [
             0.5555555555555556,
             "#d8576b"
            ],
            [
             0.6666666666666666,
             "#ed7953"
            ],
            [
             0.7777777777777778,
             "#fb9f3a"
            ],
            [
             0.8888888888888888,
             "#fdca26"
            ],
            [
             1,
             "#f0f921"
            ]
           ]
          },
          "colorway": [
           "#636efa",
           "#EF553B",
           "#00cc96",
           "#ab63fa",
           "#FFA15A",
           "#19d3f3",
           "#FF6692",
           "#B6E880",
           "#FF97FF",
           "#FECB52"
          ],
          "font": {
           "color": "#2a3f5f"
          },
          "geo": {
           "bgcolor": "white",
           "lakecolor": "white",
           "landcolor": "white",
           "showlakes": true,
           "showland": true,
           "subunitcolor": "#C8D4E3"
          },
          "hoverlabel": {
           "align": "left"
          },
          "hovermode": "closest",
          "mapbox": {
           "style": "light"
          },
          "paper_bgcolor": "white",
          "plot_bgcolor": "white",
          "polar": {
           "angularaxis": {
            "gridcolor": "#EBF0F8",
            "linecolor": "#EBF0F8",
            "ticks": ""
           },
           "bgcolor": "white",
           "radialaxis": {
            "gridcolor": "#EBF0F8",
            "linecolor": "#EBF0F8",
            "ticks": ""
           }
          },
          "scene": {
           "xaxis": {
            "backgroundcolor": "white",
            "gridcolor": "#DFE8F3",
            "gridwidth": 2,
            "linecolor": "#EBF0F8",
            "showbackground": true,
            "ticks": "",
            "zerolinecolor": "#EBF0F8"
           },
           "yaxis": {
            "backgroundcolor": "white",
            "gridcolor": "#DFE8F3",
            "gridwidth": 2,
            "linecolor": "#EBF0F8",
            "showbackground": true,
            "ticks": "",
            "zerolinecolor": "#EBF0F8"
           },
           "zaxis": {
            "backgroundcolor": "white",
            "gridcolor": "#DFE8F3",
            "gridwidth": 2,
            "linecolor": "#EBF0F8",
            "showbackground": true,
            "ticks": "",
            "zerolinecolor": "#EBF0F8"
           }
          },
          "shapedefaults": {
           "line": {
            "color": "#2a3f5f"
           }
          },
          "ternary": {
           "aaxis": {
            "gridcolor": "#DFE8F3",
            "linecolor": "#A2B1C6",
            "ticks": ""
           },
           "baxis": {
            "gridcolor": "#DFE8F3",
            "linecolor": "#A2B1C6",
            "ticks": ""
           },
           "bgcolor": "white",
           "caxis": {
            "gridcolor": "#DFE8F3",
            "linecolor": "#A2B1C6",
            "ticks": ""
           }
          },
          "title": {
           "x": 0.05
          },
          "xaxis": {
           "automargin": true,
           "gridcolor": "#EBF0F8",
           "linecolor": "#EBF0F8",
           "ticks": "",
           "title": {
            "standoff": 15
           },
           "zerolinecolor": "#EBF0F8",
           "zerolinewidth": 2
          },
          "yaxis": {
           "automargin": true,
           "gridcolor": "#EBF0F8",
           "linecolor": "#EBF0F8",
           "ticks": "",
           "title": {
            "standoff": 15
           },
           "zerolinecolor": "#EBF0F8",
           "zerolinewidth": 2
          }
         }
        },
        "title": {
         "text": "Interactive Climate Time Series - PR"
        },
        "xaxis": {
         "title": {
          "text": "Year"
         }
        },
        "yaxis": {
         "title": {
          "text": "pr (mm/day)"
         }
        }
       }
      }
     },
     "metadata": {},
     "output_type": "display_data"
    },
    {
     "data": {
      "application/vnd.plotly.v1+json": {
       "config": {
        "plotlyServerURL": "https://plot.ly"
       },
       "data": [
        {
         "colorbar": {
          "title": {
           "text": "Change (mm/day)"
          }
         },
         "colorscale": [
          [
           0,
           "rgb(5,48,97)"
          ],
          [
           0.1,
           "rgb(33,102,172)"
          ],
          [
           0.2,
           "rgb(67,147,195)"
          ],
          [
           0.3,
           "rgb(146,197,222)"
          ],
          [
           0.4,
           "rgb(209,229,240)"
          ],
          [
           0.5,
           "rgb(247,247,247)"
          ],
          [
           0.6,
           "rgb(253,219,199)"
          ],
          [
           0.7,
           "rgb(244,165,130)"
          ],
          [
           0.8,
           "rgb(214,96,77)"
          ],
          [
           0.9,
           "rgb(178,24,43)"
          ],
          [
           1,
           "rgb(103,0,31)"
          ]
         ],
         "type": "heatmap",
         "x": {
          "bdata": "aW8qcSMsWsBtxN641ilawHIZkwCKJ1rAdm5HSD0lWsB6w/uP8CJawH8YsNejIFrAg21kH1ceWsCHwhhnChxawIwXza69GVrAkGyB9nAXWsCUwTU+JBVawJgW6oXXElrAnWuezYoQWsChwFIVPg5awKUVB13xC1rAqmq7pKQJWsCuv2/sVwdawLIUJDQLBVrAt2nYe74CWsC7vozDcQBawL8TQQsl/lnAxGj1Utj7WcDIvamai/lZwMwSXuI+91nA0WcSKvL0WcDVvMZxpfJZwNkRe7lY8FnA3WYvAQzuWcDiu+NIv+tZwOYQmJBy6VnA6mVM2CXnWcDvugAg2eRZwPMPtWeM4lnA92Rprz/gWcD8uR338t1ZwAAP0j6m21nABGSGhlnZWcAJuTrODNdZwA0O7xXA1FnAEWOjXXPSWcAWuFelJtBZwA==",
          "dtype": "f8"
         },
         "y": {
          "bdata": "Ib2C9rhSRkAqZ+uFH05GQDIRVBWGSUZAO7u8pOxERkBEZSU0U0BGQEwPjsO5O0ZAVbn2UiA3RkBdY1/ihjJGQGYNyHHtLUZAb7cwAVQpRkB3YZmQuiRGQIALAiAhIEZAibVqr4cbRkCRX9M+7hZGQJoJPM5UEkZAorOkXbsNRkCrXQ3tIQlGQLQHdnyIBEZAvLHeC+//RUDFW0ebVftFQM4FsCq89kVA1q8YuiLyRUDfWYFJie1FQOcD6tjv6EVA8K1SaFbkRUD5V7v3vN9FQAECJIcj20VACqyMForWRUATVvWl8NFFQBsAXjVXzUVAJKrGxL3IRUAsVC9UJMRFQDX+l+OKv0VA",
          "dtype": "f8"
         },
         "z": {
          "bdata": "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",
          "dtype": "f4",
          "shape": "33, 41"
         },
         "zmid": 0
        }
       ],
       "layout": {
        "template": {
         "data": {
          "bar": [
           {
            "error_x": {
             "color": "#2a3f5f"
            },
            "error_y": {
             "color": "#2a3f5f"
            },
            "marker": {
             "line": {
              "color": "white",
              "width": 0.5
             },
             "pattern": {
              "fillmode": "overlay",
              "size": 10,
              "solidity": 0.2
             }
            },
            "type": "bar"
           }
          ],
          "barpolar": [
           {
            "marker": {
             "line": {
              "color": "white",
              "width": 0.5
             },
             "pattern": {
              "fillmode": "overlay",
              "size": 10,
              "solidity": 0.2
             }
            },
            "type": "barpolar"
           }
          ],
          "carpet": [
           {
            "aaxis": {
             "endlinecolor": "#2a3f5f",
             "gridcolor": "#C8D4E3",
             "linecolor": "#C8D4E3",
             "minorgridcolor": "#C8D4E3",
             "startlinecolor": "#2a3f5f"
            },
            "baxis": {
             "endlinecolor": "#2a3f5f",
             "gridcolor": "#C8D4E3",
             "linecolor": "#C8D4E3",
             "minorgridcolor": "#C8D4E3",
             "startlinecolor": "#2a3f5f"
            },
            "type": "carpet"
           }
          ],
          "choropleth": [
           {
            "colorbar": {
             "outlinewidth": 0,
             "ticks": ""
            },
            "type": "choropleth"
           }
          ],
          "contour": [
           {
            "colorbar": {
             "outlinewidth": 0,
             "ticks": ""
            },
            "colorscale": [
             [
              0,
              "#0d0887"
             ],
             [
              0.1111111111111111,
              "#46039f"
             ],
             [
              0.2222222222222222,
              "#7201a8"
             ],
             [
              0.3333333333333333,
              "#9c179e"
             ],
             [
              0.4444444444444444,
              "#bd3786"
             ],
             [
              0.5555555555555556,
              "#d8576b"
             ],
             [
              0.6666666666666666,
              "#ed7953"
             ],
             [
              0.7777777777777778,
              "#fb9f3a"
             ],
             [
              0.8888888888888888,
              "#fdca26"
             ],
             [
              1,
              "#f0f921"
             ]
            ],
            "type": "contour"
           }
          ],
          "contourcarpet": [
           {
            "colorbar": {
             "outlinewidth": 0,
             "ticks": ""
            },
            "type": "contourcarpet"
           }
          ],
          "heatmap": [
           {
            "colorbar": {
             "outlinewidth": 0,
             "ticks": ""
            },
            "colorscale": [
             [
              0,
              "#0d0887"
             ],
             [
              0.1111111111111111,
              "#46039f"
             ],
             [
              0.2222222222222222,
              "#7201a8"
             ],
             [
              0.3333333333333333,
              "#9c179e"
             ],
             [
              0.4444444444444444,
              "#bd3786"
             ],
             [
              0.5555555555555556,
              "#d8576b"
             ],
             [
              0.6666666666666666,
              "#ed7953"
             ],
             [
              0.7777777777777778,
              "#fb9f3a"
             ],
             [
              0.8888888888888888,
              "#fdca26"
             ],
             [
              1,
              "#f0f921"
             ]
            ],
            "type": "heatmap"
           }
          ],
          "histogram": [
           {
            "marker": {
             "pattern": {
              "fillmode": "overlay",
              "size": 10,
              "solidity": 0.2
             }
            },
            "type": "histogram"
           }
          ],
          "histogram2d": [
           {
            "colorbar": {
             "outlinewidth": 0,
             "ticks": ""
            },
            "colorscale": [
             [
              0,
              "#0d0887"
             ],
             [
              0.1111111111111111,
              "#46039f"
             ],
             [
              0.2222222222222222,
              "#7201a8"
             ],
             [
              0.3333333333333333,
              "#9c179e"
             ],
             [
              0.4444444444444444,
              "#bd3786"
             ],
             [
              0.5555555555555556,
              "#d8576b"
             ],
             [
              0.6666666666666666,
              "#ed7953"
             ],
             [
              0.7777777777777778,
              "#fb9f3a"
             ],
             [
              0.8888888888888888,
              "#fdca26"
             ],
             [
              1,
              "#f0f921"
             ]
            ],
            "type": "histogram2d"
           }
          ],
          "histogram2dcontour": [
           {
            "colorbar": {
             "outlinewidth": 0,
             "ticks": ""
            },
            "colorscale": [
             [
              0,
              "#0d0887"
             ],
             [
              0.1111111111111111,
              "#46039f"
             ],
             [
              0.2222222222222222,
              "#7201a8"
             ],
             [
              0.3333333333333333,
              "#9c179e"
             ],
             [
              0.4444444444444444,
              "#bd3786"
             ],
             [
              0.5555555555555556,
              "#d8576b"
             ],
             [
              0.6666666666666666,
              "#ed7953"
             ],
             [
              0.7777777777777778,
              "#fb9f3a"
             ],
             [
              0.8888888888888888,
              "#fdca26"
             ],
             [
              1,
              "#f0f921"
             ]
            ],
            "type": "histogram2dcontour"
           }
          ],
          "mesh3d": [
           {
            "colorbar": {
             "outlinewidth": 0,
             "ticks": ""
            },
            "type": "mesh3d"
           }
          ],
          "parcoords": [
           {
            "line": {
             "colorbar": {
              "outlinewidth": 0,
              "ticks": ""
             }
            },
            "type": "parcoords"
           }
          ],
          "pie": [
           {
            "automargin": true,
            "type": "pie"
           }
          ],
          "scatter": [
           {
            "fillpattern": {
             "fillmode": "overlay",
             "size": 10,
             "solidity": 0.2
            },
            "type": "scatter"
           }
          ],
          "scatter3d": [
           {
            "line": {
             "colorbar": {
              "outlinewidth": 0,
              "ticks": ""
             }
            },
            "marker": {
             "colorbar": {
              "outlinewidth": 0,
              "ticks": ""
             }
            },
            "type": "scatter3d"
           }
          ],
          "scattercarpet": [
           {
            "marker": {
             "colorbar": {
              "outlinewidth": 0,
              "ticks": ""
             }
            },
            "type": "scattercarpet"
           }
          ],
          "scattergeo": [
           {
            "marker": {
             "colorbar": {
              "outlinewidth": 0,
              "ticks": ""
             }
            },
            "type": "scattergeo"
           }
          ],
          "scattergl": [
           {
            "marker": {
             "colorbar": {
              "outlinewidth": 0,
              "ticks": ""
             }
            },
            "type": "scattergl"
           }
          ],
          "scattermap": [
           {
            "marker": {
             "colorbar": {
              "outlinewidth": 0,
              "ticks": ""
             }
            },
            "type": "scattermap"
           }
          ],
          "scattermapbox": [
           {
            "marker": {
             "colorbar": {
              "outlinewidth": 0,
              "ticks": ""
             }
            },
            "type": "scattermapbox"
           }
          ],
          "scatterpolar": [
           {
            "marker": {
             "colorbar": {
              "outlinewidth": 0,
              "ticks": ""
             }
            },
            "type": "scatterpolar"
           }
          ],
          "scatterpolargl": [
           {
            "marker": {
             "colorbar": {
              "outlinewidth": 0,
              "ticks": ""
             }
            },
            "type": "scatterpolargl"
           }
          ],
          "scatterternary": [
           {
            "marker": {
             "colorbar": {
              "outlinewidth": 0,
              "ticks": ""
             }
            },
            "type": "scatterternary"
           }
          ],
          "surface": [
           {
            "colorbar": {
             "outlinewidth": 0,
             "ticks": ""
            },
            "colorscale": [
             [
              0,
              "#0d0887"
             ],
             [
              0.1111111111111111,
              "#46039f"
             ],
             [
              0.2222222222222222,
              "#7201a8"
             ],
             [
              0.3333333333333333,
              "#9c179e"
             ],
             [
              0.4444444444444444,
              "#bd3786"
             ],
             [
              0.5555555555555556,
              "#d8576b"
             ],
             [
              0.6666666666666666,
              "#ed7953"
             ],
             [
              0.7777777777777778,
              "#fb9f3a"
             ],
             [
              0.8888888888888888,
              "#fdca26"
             ],
             [
              1,
              "#f0f921"
             ]
            ],
            "type": "surface"
           }
          ],
          "table": [
           {
            "cells": {
             "fill": {
              "color": "#EBF0F8"
             },
             "line": {
              "color": "white"
             }
            },
            "header": {
             "fill": {
              "color": "#C8D4E3"
             },
             "line": {
              "color": "white"
             }
            },
            "type": "table"
           }
          ]
         },
         "layout": {
          "annotationdefaults": {
           "arrowcolor": "#2a3f5f",
           "arrowhead": 0,
           "arrowwidth": 1
          },
          "autotypenumbers": "strict",
          "coloraxis": {
           "colorbar": {
            "outlinewidth": 0,
            "ticks": ""
           }
          },
          "colorscale": {
           "diverging": [
            [
             0,
             "#8e0152"
            ],
            [
             0.1,
             "#c51b7d"
            ],
            [
             0.2,
             "#de77ae"
            ],
            [
             0.3,
             "#f1b6da"
            ],
            [
             0.4,
             "#fde0ef"
            ],
            [
             0.5,
             "#f7f7f7"
            ],
            [
             0.6,
             "#e6f5d0"
            ],
            [
             0.7,
             "#b8e186"
            ],
            [
             0.8,
             "#7fbc41"
            ],
            [
             0.9,
             "#4d9221"
            ],
            [
             1,
             "#276419"
            ]
           ],
           "sequential": [
            [
             0,
             "#0d0887"
            ],
            [
             0.1111111111111111,
             "#46039f"
            ],
            [
             0.2222222222222222,
             "#7201a8"
            ],
            [
             0.3333333333333333,
             "#9c179e"
            ],
            [
             0.4444444444444444,
             "#bd3786"
            ],
            [
             0.5555555555555556,
             "#d8576b"
            ],
            [
             0.6666666666666666,
             "#ed7953"
            ],
            [
             0.7777777777777778,
             "#fb9f3a"
            ],
            [
             0.8888888888888888,
             "#fdca26"
            ],
            [
             1,
             "#f0f921"
            ]
           ],
           "sequentialminus": [
            [
             0,
             "#0d0887"
            ],
            [
             0.1111111111111111,
             "#46039f"
            ],
            [
             0.2222222222222222,
             "#7201a8"
            ],
            [
             0.3333333333333333,
             "#9c179e"
            ],
            [
             0.4444444444444444,
             "#bd3786"
            ],
            [
             0.5555555555555556,
             "#d8576b"
            ],
            [
             0.6666666666666666,
             "#ed7953"
            ],
            [
             0.7777777777777778,
             "#fb9f3a"
            ],
            [
             0.8888888888888888,
             "#fdca26"
            ],
            [
             1,
             "#f0f921"
            ]
           ]
          },
          "colorway": [
           "#636efa",
           "#EF553B",
           "#00cc96",
           "#ab63fa",
           "#FFA15A",
           "#19d3f3",
           "#FF6692",
           "#B6E880",
           "#FF97FF",
           "#FECB52"
          ],
          "font": {
           "color": "#2a3f5f"
          },
          "geo": {
           "bgcolor": "white",
           "lakecolor": "white",
           "landcolor": "white",
           "showlakes": true,
           "showland": true,
           "subunitcolor": "#C8D4E3"
          },
          "hoverlabel": {
           "align": "left"
          },
          "hovermode": "closest",
          "mapbox": {
           "style": "light"
          },
          "paper_bgcolor": "white",
          "plot_bgcolor": "white",
          "polar": {
           "angularaxis": {
            "gridcolor": "#EBF0F8",
            "linecolor": "#EBF0F8",
            "ticks": ""
           },
           "bgcolor": "white",
           "radialaxis": {
            "gridcolor": "#EBF0F8",
            "linecolor": "#EBF0F8",
            "ticks": ""
           }
          },
          "scene": {
           "xaxis": {
            "backgroundcolor": "white",
            "gridcolor": "#DFE8F3",
            "gridwidth": 2,
            "linecolor": "#EBF0F8",
            "showbackground": true,
            "ticks": "",
            "zerolinecolor": "#EBF0F8"
           },
           "yaxis": {
            "backgroundcolor": "white",
            "gridcolor": "#DFE8F3",
            "gridwidth": 2,
            "linecolor": "#EBF0F8",
            "showbackground": true,
            "ticks": "",
            "zerolinecolor": "#EBF0F8"
           },
           "zaxis": {
            "backgroundcolor": "white",
            "gridcolor": "#DFE8F3",
            "gridwidth": 2,
            "linecolor": "#EBF0F8",
            "showbackground": true,
            "ticks": "",
            "zerolinecolor": "#EBF0F8"
           }
          },
          "shapedefaults": {
           "line": {
            "color": "#2a3f5f"
           }
          },
          "ternary": {
           "aaxis": {
            "gridcolor": "#DFE8F3",
            "linecolor": "#A2B1C6",
            "ticks": ""
           },
           "baxis": {
            "gridcolor": "#DFE8F3",
            "linecolor": "#A2B1C6",
            "ticks": ""
           },
           "bgcolor": "white",
           "caxis": {
            "gridcolor": "#DFE8F3",
            "linecolor": "#A2B1C6",
            "ticks": ""
           }
          },
          "title": {
           "x": 0.05
          },
          "xaxis": {
           "automargin": true,
           "gridcolor": "#EBF0F8",
           "linecolor": "#EBF0F8",
           "ticks": "",
           "title": {
            "standoff": 15
           },
           "zerolinecolor": "#EBF0F8",
           "zerolinewidth": 2
          },
          "yaxis": {
           "automargin": true,
           "gridcolor": "#EBF0F8",
           "linecolor": "#EBF0F8",
           "ticks": "",
           "title": {
            "standoff": 15
           },
           "zerolinecolor": "#EBF0F8",
           "zerolinewidth": 2
          }
         }
        },
        "title": {
         "text": "Interactive Climate Change Map - PR"
        },
        "xaxis": {
         "title": {
          "text": "Longitude"
         }
        },
        "yaxis": {
         "title": {
          "text": "Latitude"
         }
        }
       }
      }
     },
     "metadata": {},
     "output_type": "display_data"
    }
   ],
   "source": [
    "if PLOTLY_AVAILABLE and hist_data is not None:\n",
    "    print(\"📊 Creating interactive visualizations...\")\n",
    "    \n",
    "    # Get unit label\n",
    "    unit_label = get_temp_unit_label(VARIABLE)\n",
    "    \n",
    "    # Create interactive time series\n",
    "    fig = go.Figure()\n",
    "    \n",
    "    # Add historical data\n",
    "    hist_mean = extract_region_mean(hist_data)\n",
    "    fig.add_trace(go.Scatter(\n",
    "        x=hist_mean.time.values,\n",
    "        y=hist_mean.values,\n",
    "        mode='lines+markers',\n",
    "        name='Historical',\n",
    "        line=dict(color='black', width=3)\n",
    "    ))\n",
    "    \n",
    "    # Add RCP scenarios if available\n",
    "    if rcp45_data is not None:\n",
    "        rcp45_mean = extract_region_mean(rcp45_data)\n",
    "        fig.add_trace(go.Scatter(\n",
    "            x=rcp45_mean.time.values,\n",
    "            y=rcp45_mean.values,\n",
    "            mode='lines+markers',\n",
    "            name='RCP4.5',\n",
    "            line=dict(color='orange', width=3)\n",
    "        ))\n",
    "    \n",
    "    if rcp85_data is not None:\n",
    "        rcp85_mean = extract_region_mean(rcp85_data)\n",
    "        fig.add_trace(go.Scatter(\n",
    "            x=rcp85_mean.time.values,\n",
    "            y=rcp85_mean.values,\n",
    "            mode='lines+markers',\n",
    "            name='RCP8.5',\n",
    "            line=dict(color='red', width=3)\n",
    "        ))\n",
    "    \n",
    "    fig.update_layout(\n",
    "        title=f'Interactive Climate Time Series - {VARIABLE.upper()}',\n",
    "        xaxis_title='Year',\n",
    "        yaxis_title=f'{VARIABLE} ({unit_label})',\n",
    "        hovermode='x unified',\n",
    "        template='plotly_white'\n",
    "    )\n",
    "    \n",
    "    fig.show()\n",
    "    \n",
    "    # Create interactive heatmap if spatial data available\n",
    "    if hist_spatial is not None and rcp85_spatial is not None:\n",
    "        \n",
    "        # Calculate change\n",
    "        change = rcp85_spatial.mean(dim='time') - hist_spatial.mean(dim='time')\n",
    "        \n",
    "        # Create heatmap\n",
    "        fig_map = go.Figure(data=go.Heatmap(\n",
    "            z=change.values,\n",
    "            x=change.x.values,\n",
    "            y=change.y.values,\n",
    "            colorscale='RdBu_r',\n",
    "            zmid=0,\n",
    "            colorbar=dict(title=f'Change ({unit_label})')\n",
    "        ))\n",
    "        \n",
    "        fig_map.update_layout(\n",
    "            title=f'Interactive Climate Change Map - {VARIABLE.upper()}',\n",
    "            xaxis_title='Longitude',\n",
    "            yaxis_title='Latitude',\n",
    "            template='plotly_white'\n",
    "        )\n",
    "        \n",
    "        fig_map.show()\n",
    "\n",
    "else:\n",
    "    if not PLOTLY_AVAILABLE:\n",
    "        print(\"📝 Install plotly for interactive visualizations: pip install plotly\")\n",
    "    else:\n",
    "        print(\"❌ No data available for interactive plots\")"
   ]
  },
  {
   "cell_type": "markdown",
   "metadata": {},
   "source": [
    "## 8. Summary & Export Functions\n",
    "\n",
    "Generate summary statistics and export results."
   ]
  },
  {
   "cell_type": "code",
   "execution_count": null,
   "metadata": {},
   "outputs": [
    {
     "name": "stdout",
     "output_type": "stream",
     "text": [
      "📋 COMPREHENSIVE CLIMATE ANALYSIS SUMMARY\n",
      "============================================================\n",
      "\n",
      "🌡️  TASMIN Analysis:\n",
      "------------------------------\n",
      "📊 Loading 76 files for tasmin historical\n",
      "📊 Loading 128 files for tasmin rcp45\n",
      "   RCP45:\n",
      "     Total change: +2.08 (+6.5%)\n",
      "     Trend: 0.0206/year (R² = 0.002)\n",
      "     Baseline: 31.90\n",
      "     Future: 33.98\n",
      "📊 Loading 76 files for tasmin historical\n",
      "❌ No files found for tasmin rcp85\n",
      "\n",
      "🌡️  PR Analysis:\n",
      "------------------------------\n",
      "📊 Loading 76 files for pr historical\n",
      "📊 Loading 128 files for pr rcp45\n",
      "   RCP45:\n",
      "     Total change: +0.09 (+6.8%)\n",
      "     Trend: -0.0009/year (R² = 0.001)\n",
      "     Baseline: 1.34\n",
      "     Future: 1.43\n",
      "📊 Loading 76 files for pr historical\n",
      "📊 Loading 75 files for pr rcp85\n",
      "   RCP85:\n",
      "     Total change: +0.08 (+6.3%)\n",
      "     Trend: 0.0042/year (R² = 0.009)\n",
      "     Baseline: 1.34\n",
      "     Future: 1.42\n",
      "\n",
      "🌡️  TASMAX Analysis:\n",
      "------------------------------\n",
      "📊 Loading 76 files for tasmax historical\n",
      "📊 Loading 128 files for tasmax rcp45\n",
      "   RCP45:\n",
      "     Total change: +2.19 (+3.8%)\n",
      "     Trend: 0.0314/year (R² = 0.003)\n",
      "     Baseline: 57.56\n",
      "     Future: 59.76\n",
      "📊 Loading 76 files for tasmax historical\n",
      "📊 Loading 128 files for tasmax rcp85\n",
      "   RCP85:\n",
      "     Total change: +4.21 (+7.3%)\n",
      "     Trend: 0.0736/year (R² = 0.015)\n",
      "     Baseline: 57.56\n",
      "     Future: 61.78\n",
      "\n",
      "📊 SUMMARY TABLE:\n",
      "  variable scenario  baseline  future  total_change  percent_change  \\\n",
      "0   tasmin    rcp45    31.898  33.980         2.083           6.529   \n",
      "1       pr    rcp45     1.338   1.429         0.092           6.848   \n",
      "2       pr    rcp85     1.338   1.423         0.085           6.348   \n",
      "3   tasmax    rcp45    57.565  59.756         2.191           3.806   \n",
      "4   tasmax    rcp85    57.565  61.777         4.212           7.317   \n",
      "\n",
      "   trend_slope  trend_r2  trend_pvalue  \n",
      "0        0.021     0.002         0.646  \n",
      "1       -0.001     0.001         0.708  \n",
      "2        0.004     0.009         0.424  \n",
      "3        0.031     0.003         0.535  \n",
      "4        0.074     0.015         0.168  \n",
      "\n",
      "💾 Summary exported to: climate_summary_20250707_0647.csv\n"
     ]
    }
   ],
   "source": [
    "def generate_climate_summary(file_inventory, variables=['tasmax', 'tasmin', 'pr']):\n",
    "    \"\"\"Generate comprehensive climate summary report.\"\"\"\n",
    "    \n",
    "    print(\"📋 COMPREHENSIVE CLIMATE ANALYSIS SUMMARY\")\n",
    "    print(\"=\" * 60)\n",
    "    \n",
    "    summary_data = []\n",
    "    \n",
    "    for variable in variables:\n",
    "        print(f\"\\n🌡️  {variable.upper()} Analysis:\")\n",
    "        print(\"-\" * 30)\n",
    "        \n",
    "        for scenario in ['rcp45', 'rcp85']:\n",
    "            try:\n",
    "                # Load data\n",
    "                hist_data = load_variable_timeseries(file_inventory, variable, 'historical', MODEL)\n",
    "                future_data = load_variable_timeseries(file_inventory, variable, scenario, MODEL)\n",
    "                \n",
    "                if hist_data is not None and future_data is not None:\n",
    "                    # Calculate regional means\n",
    "                    hist_mean = extract_region_mean(hist_data)\n",
    "                    future_mean = extract_region_mean(future_data)\n",
    "                    \n",
    "                    # Calculate statistics\n",
    "                    baseline = float(hist_mean.mean())\n",
    "                    future_val = float(future_mean.mean())\n",
    "                    total_change = future_val - baseline\n",
    "                    pct_change = (total_change / baseline) * 100\n",
    "                    \n",
    "                    # Calculate trend\n",
    "                    x = future_mean.time.values\n",
    "                    y = future_mean.values\n",
    "                    slope, intercept, r_value, p_value, std_err = stats.linregress(x, y)\n",
    "                    \n",
    "                    print(f\"   {scenario.upper()}:\")\n",
    "                    print(f\"     Total change: {total_change:+.2f} ({pct_change:+.1f}%)\")\n",
    "                    print(f\"     Trend: {slope:.4f}/year (R² = {r_value**2:.3f})\")\n",
    "                    print(f\"     Baseline: {baseline:.2f}\")\n",
    "                    print(f\"     Future: {future_val:.2f}\")\n",
    "                    \n",
    "                    # Store for export\n",
    "                    summary_data.append({\n",
    "                        'variable': variable,\n",
    "                        'scenario': scenario,\n",
    "                        'baseline': baseline,\n",
    "                        'future': future_val,\n",
    "                        'total_change': total_change,\n",
    "                        'percent_change': pct_change,\n",
    "                        'trend_slope': slope,\n",
    "                        'trend_r2': r_value**2,\n",
    "                        'trend_pvalue': p_value\n",
    "                    })\n",
    "                \n",
    "            except Exception as e:\n",
    "                print(f\"     ⚠️  Error analyzing {variable} {scenario}: {e}\")\n",
    "    \n",
    "    # Create summary DataFrame\n",
    "    if summary_data:\n",
    "        summary_df = pd.DataFrame(summary_data)\n",
    "        \n",
    "        print(\"\\n📊 SUMMARY TABLE:\")\n",
    "        print(summary_df.round(3))\n",
    "        \n",
    "        # Export to CSV\n",
    "        output_file = f\"climate_summary_{datetime.now().strftime('%Y%m%d_%H%M')}.csv\"\n",
    "        summary_df.to_csv(output_file, index=False)\n",
    "        print(f\"\\n💾 Summary exported to: {output_file}\")\n",
    "        \n",
    "        return summary_df\n",
    "    \n",
    "    return None\n",
    "\n",
    "# Generate summary if data is available\n",
    "if file_inventory is not None:\n",
    "    available_vars = file_inventory.variable.unique()\n",
    "    summary = generate_climate_summary(file_inventory, available_vars)\n",
    "else:\n",
    "    print(\"❌ No data available for summary generation\")"
   ]
  },
  {
   "cell_type": "markdown",
   "metadata": {},
   "source": [
    "## 9. Next Steps & Additional Ideas\n",
    "\n",
    "Here are additional visualization ideas you can explore:\n",
    "\n",
    "### 🔥 More Advanced Visualizations:\n",
    "\n",
    "1. **Climate Analog Maps** - Find future locations with today's climate\n",
    "2. **Threshold Exceedance Maps** - Days above/below critical temperatures\n",
    "3. **Growing Season Analysis** - First/last frost dates, growing degree days\n",
    "4. **Precipitation Intensity** - Heavy precipitation event frequency\n",
    "5. **Compound Events** - Hot and dry periods, heat waves\n",
    "6. **Climate Stripes** - Popular warming stripes visualization\n",
    "7. **Animated Time Series** - Show change over time dynamically\n",
    "8. **Multi-Model Ensembles** - Uncertainty analysis across models\n",
    "9. **Elevation Gradients** - Temperature/precipitation vs elevation\n",
    "10. **Urban Heat Island** - If your area includes cities\n",
    "\n",
    "### 📊 Statistical Analyses:\n",
    "\n",
    "- **Change Point Detection** - When did rapid changes occur?\n",
    "- **Correlation Analysis** - How do variables relate spatially?\n",
    "- **Principal Component Analysis** - Main patterns of variability\n",
    "- **Extreme Value Analysis** - Return periods for extreme events\n",
    "- **Trend Significance Testing** - Statistical confidence in trends\n",
    "\n",
    "### 🌍 Integration Options:\n",
    "\n",
    "- **Land Cover Data** - How does vegetation affect climate response?\n",
    "- **Elevation Data** - Topographic influences on climate\n",
    "- **Population Data** - Climate impacts on populated areas\n",
    "- **Economic Data** - Climate risks to economic activities\n",
    "- **Ecosystem Data** - Species habitat suitability changes\n",
    "\n",
    "This notebook provides a comprehensive foundation for exploring your MACA climate data. Modify the variables, regions, and time periods to focus on your specific research questions!"
   ]
  }
 ],
 "metadata": {
  "kernelspec": {
   "display_name": "datacube",
   "language": "python",
   "name": "python3"
  },
  "language_info": {
   "codemirror_mode": {
    "name": "ipython",
    "version": 3
   },
   "file_extension": ".py",
   "mimetype": "text/x-python",
   "name": "python",
   "nbconvert_exporter": "python",
   "pygments_lexer": "ipython3",
   "version": "3.10.17"
  }
 },
 "nbformat": 4,
 "nbformat_minor": 4
}